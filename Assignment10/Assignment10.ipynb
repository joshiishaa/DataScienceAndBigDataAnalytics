{
 "cells": [
  {
   "cell_type": "markdown",
   "id": "03f3f74e",
   "metadata": {},
   "source": [
    "## DSBDAL Assignment 10"
   ]
  },
  {
   "cell_type": "markdown",
   "id": "7b4a0732",
   "metadata": {},
   "source": [
    "## Data Visualization III"
   ]
  },
  {
   "cell_type": "markdown",
   "id": "013fd594",
   "metadata": {},
   "source": [
    "#### Importing all the required libraries"
   ]
  },
  {
   "cell_type": "code",
   "execution_count": 32,
   "id": "7434298e",
   "metadata": {},
   "outputs": [],
   "source": [
    "import seaborn as sns\n",
    "##!pip install datasets\n",
    "import matplotlib.pyplot as plt\n",
    "from scipy import stats\n",
    "import numpy as np"
   ]
  },
  {
   "cell_type": "markdown",
   "id": "e6d7101d",
   "metadata": {},
   "source": [
    "#### Loading the dataset "
   ]
  },
  {
   "cell_type": "code",
   "execution_count": 33,
   "id": "2aae93d5",
   "metadata": {},
   "outputs": [],
   "source": [
    "data = sns.load_dataset('iris')"
   ]
  },
  {
   "cell_type": "code",
   "execution_count": 34,
   "id": "7fe5b449",
   "metadata": {},
   "outputs": [
    {
     "data": {
      "text/html": [
       "<div>\n",
       "<style scoped>\n",
       "    .dataframe tbody tr th:only-of-type {\n",
       "        vertical-align: middle;\n",
       "    }\n",
       "\n",
       "    .dataframe tbody tr th {\n",
       "        vertical-align: top;\n",
       "    }\n",
       "\n",
       "    .dataframe thead th {\n",
       "        text-align: right;\n",
       "    }\n",
       "</style>\n",
       "<table border=\"1\" class=\"dataframe\">\n",
       "  <thead>\n",
       "    <tr style=\"text-align: right;\">\n",
       "      <th></th>\n",
       "      <th>sepal_length</th>\n",
       "      <th>sepal_width</th>\n",
       "      <th>petal_length</th>\n",
       "      <th>petal_width</th>\n",
       "      <th>species</th>\n",
       "    </tr>\n",
       "  </thead>\n",
       "  <tbody>\n",
       "    <tr>\n",
       "      <th>0</th>\n",
       "      <td>5.1</td>\n",
       "      <td>3.5</td>\n",
       "      <td>1.4</td>\n",
       "      <td>0.2</td>\n",
       "      <td>setosa</td>\n",
       "    </tr>\n",
       "    <tr>\n",
       "      <th>1</th>\n",
       "      <td>4.9</td>\n",
       "      <td>3.0</td>\n",
       "      <td>1.4</td>\n",
       "      <td>0.2</td>\n",
       "      <td>setosa</td>\n",
       "    </tr>\n",
       "    <tr>\n",
       "      <th>2</th>\n",
       "      <td>4.7</td>\n",
       "      <td>3.2</td>\n",
       "      <td>1.3</td>\n",
       "      <td>0.2</td>\n",
       "      <td>setosa</td>\n",
       "    </tr>\n",
       "    <tr>\n",
       "      <th>3</th>\n",
       "      <td>4.6</td>\n",
       "      <td>3.1</td>\n",
       "      <td>1.5</td>\n",
       "      <td>0.2</td>\n",
       "      <td>setosa</td>\n",
       "    </tr>\n",
       "    <tr>\n",
       "      <th>4</th>\n",
       "      <td>5.0</td>\n",
       "      <td>3.6</td>\n",
       "      <td>1.4</td>\n",
       "      <td>0.2</td>\n",
       "      <td>setosa</td>\n",
       "    </tr>\n",
       "  </tbody>\n",
       "</table>\n",
       "</div>"
      ],
      "text/plain": [
       "   sepal_length  sepal_width  petal_length  petal_width species\n",
       "0           5.1          3.5           1.4          0.2  setosa\n",
       "1           4.9          3.0           1.4          0.2  setosa\n",
       "2           4.7          3.2           1.3          0.2  setosa\n",
       "3           4.6          3.1           1.5          0.2  setosa\n",
       "4           5.0          3.6           1.4          0.2  setosa"
      ]
     },
     "execution_count": 34,
     "metadata": {},
     "output_type": "execute_result"
    }
   ],
   "source": [
    "data.head()"
   ]
  },
  {
   "cell_type": "markdown",
   "id": "5a31cb34",
   "metadata": {},
   "source": [
    "### Part 1 - List down the features and their types available in the dataset"
   ]
  },
  {
   "cell_type": "code",
   "execution_count": 35,
   "id": "fb96a38f",
   "metadata": {},
   "outputs": [
    {
     "data": {
      "text/plain": [
       "sepal_length    float64\n",
       "sepal_width     float64\n",
       "petal_length    float64\n",
       "petal_width     float64\n",
       "species          object\n",
       "dtype: object"
      ]
     },
     "execution_count": 35,
     "metadata": {},
     "output_type": "execute_result"
    }
   ],
   "source": [
    "data.dtypes"
   ]
  },
  {
   "cell_type": "code",
   "execution_count": 36,
   "id": "256da291",
   "metadata": {},
   "outputs": [
    {
     "data": {
      "text/plain": [
       "setosa        50\n",
       "versicolor    50\n",
       "virginica     50\n",
       "Name: species, dtype: int64"
      ]
     },
     "execution_count": 36,
     "metadata": {},
     "output_type": "execute_result"
    }
   ],
   "source": [
    "data['species'].value_counts()"
   ]
  },
  {
   "cell_type": "markdown",
   "id": "b1437bab",
   "metadata": {},
   "source": [
    "#### Checking for missing data "
   ]
  },
  {
   "cell_type": "code",
   "execution_count": 37,
   "id": "e560eadb",
   "metadata": {},
   "outputs": [
    {
     "data": {
      "text/plain": [
       "sepal_length    0\n",
       "sepal_width     0\n",
       "petal_length    0\n",
       "petal_width     0\n",
       "species         0\n",
       "dtype: int64"
      ]
     },
     "execution_count": 37,
     "metadata": {},
     "output_type": "execute_result"
    }
   ],
   "source": [
    "missing_values = data.isnull().sum()\n",
    "missing_values"
   ]
  },
  {
   "cell_type": "markdown",
   "id": "557cdb55",
   "metadata": {},
   "source": [
    "### Part 2 - Create a histogram for each feature in the dataset to illustrate the feature distributions."
   ]
  },
  {
   "cell_type": "markdown",
   "id": "72419b81",
   "metadata": {},
   "source": [
    "#### (i) sepal length"
   ]
  },
  {
   "cell_type": "code",
   "execution_count": 38,
   "id": "e1776056",
   "metadata": {},
   "outputs": [
    {
     "data": {
      "text/plain": [
       "<AxesSubplot:xlabel='sepal_length', ylabel='Count'>"
      ]
     },
     "execution_count": 38,
     "metadata": {},
     "output_type": "execute_result"
    },
    {
     "data": {
      "image/png": "[encoded data removed]",
      "text/plain": [
       "<Figure size 432x288 with 1 Axes>"
      ]
     },
     "metadata": {
      "needs_background": "light"
     },
     "output_type": "display_data"
    }
   ],
   "source": [
    "sns.histplot(data['sepal_length'])"
   ]
  },
  {
   "cell_type": "markdown",
   "id": "bcd14d7f",
   "metadata": {},
   "source": [
    "#### (ii) sepal width "
   ]
  },
  {
   "cell_type": "code",
   "execution_count": 39,
   "id": "d64d5699",
   "metadata": {},
   "outputs": [
    {
     "data": {
      "text/plain": [
       "<AxesSubplot:xlabel='sepal_width', ylabel='Count'>"
      ]
     },
     "execution_count": 39,
     "metadata": {},
     "output_type": "execute_result"
    },
    {
     "data": {
      "image/png": "[encoded data removed]",
      "text/plain": [
       "<Figure size 432x288 with 1 Axes>"
      ]
     },
     "metadata": {
      "needs_background": "light"
     },
     "output_type": "display_data"
    }
   ],
   "source": [
    "sns.histplot(data['sepal_width'])"
   ]
  },
  {
   "cell_type": "markdown",
   "id": "16fc2839",
   "metadata": {},
   "source": [
    "#### (iii) petal length "
   ]
  },
  {
   "cell_type": "code",
   "execution_count": 40,
   "id": "29a5d10d",
   "metadata": {},
   "outputs": [
    {
     "data": {
      "text/plain": [
       "<AxesSubplot:xlabel='petal_length', ylabel='Count'>"
      ]
     },
     "execution_count": 40,
     "metadata": {},
     "output_type": "execute_result"
    },
    {
     "data": {
      "image/png": "[encoded data removed]",
      "text/plain": [
       "<Figure size 432x288 with 1 Axes>"
      ]
     },
     "metadata": {
      "needs_background": "light"
     },
     "output_type": "display_data"
    }
   ],
   "source": [
    "sns.histplot(data['petal_length'])"
   ]
  },
  {
   "cell_type": "markdown",
   "id": "714de119",
   "metadata": {},
   "source": [
    "#### (iv) petal width "
   ]
  },
  {
   "cell_type": "code",
   "execution_count": 41,
   "id": "d2e0fff9",
   "metadata": {},
   "outputs": [
    {
     "data": {
      "text/plain": [
       "<AxesSubplot:xlabel='petal_width', ylabel='Count'>"
      ]
     },
     "execution_count": 41,
     "metadata": {},
     "output_type": "execute_result"
    },
    {
     "data": {
      "image/png": "[encoded data removed]",
      "text/plain": [
       "<Figure size 432x288 with 1 Axes>"
      ]
     },
     "metadata": {
      "needs_background": "light"
     },
     "output_type": "display_data"
    }
   ],
   "source": [
    "sns.histplot(data['petal_width'])"
   ]
  },
  {
   "cell_type": "markdown",
   "id": "e7896ddf",
   "metadata": {},
   "source": [
    "### Part 3 - Create a box plot for each feature in the dataset"
   ]
  },
  {
   "cell_type": "markdown",
   "id": "6b38125e",
   "metadata": {},
   "source": [
    "#### (i) sepal length"
   ]
  },
  {
   "cell_type": "code",
   "execution_count": 42,
   "id": "9a2a9254",
   "metadata": {},
   "outputs": [
    {
     "data": {
      "text/plain": [
       "<AxesSubplot:xlabel='sepal_length'>"
      ]
     },
     "execution_count": 42,
     "metadata": {},
     "output_type": "execute_result"
    },
    {
     "data": {
      "image/png": "[encoded data removed]",
      "text/plain": [
       "<Figure size 432x288 with 1 Axes>"
      ]
     },
     "metadata": {
      "needs_background": "light"
     },
     "output_type": "display_data"
    }
   ],
   "source": [
    "sns.boxplot(x = data['sepal_length'])"
   ]
  },
  {
   "cell_type": "markdown",
   "id": "d1bd7be4",
   "metadata": {},
   "source": [
    "#### (ii) sepal width "
   ]
  },
  {
   "cell_type": "code",
   "execution_count": 43,
   "id": "cb699df2",
   "metadata": {},
   "outputs": [
    {
     "data": {
      "text/plain": [
       "<AxesSubplot:xlabel='sepal_width'>"
      ]
     },
     "execution_count": 43,
     "metadata": {},
     "output_type": "execute_result"
    },
    {
     "data": {
      "image/png": "[encoded data removed]",
      "text/plain": [
       "<Figure size 432x288 with 1 Axes>"
      ]
     },
     "metadata": {
      "needs_background": "light"
     },
     "output_type": "display_data"
    }
   ],
   "source": [
    "sns.boxplot(x = data['sepal_width'])"
   ]
  },
  {
   "cell_type": "markdown",
   "id": "8a2e592c",
   "metadata": {},
   "source": [
    "#### (iii) petal length "
   ]
  },
  {
   "cell_type": "code",
   "execution_count": 44,
   "id": "c3872103",
   "metadata": {},
   "outputs": [
    {
     "data": {
      "text/plain": [
       "<AxesSubplot:xlabel='petal_length'>"
      ]
     },
     "execution_count": 44,
     "metadata": {},
     "output_type": "execute_result"
    },
    {
     "data": {
      "image/png": "[encoded data removed]",
      "text/plain": [
       "<Figure size 432x288 with 1 Axes>"
      ]
     },
     "metadata": {
      "needs_background": "light"
     },
     "output_type": "display_data"
    }
   ],
   "source": [
    "sns.boxplot(x = data['petal_length'])"
   ]
  },
  {
   "cell_type": "markdown",
   "id": "a4e426ca",
   "metadata": {},
   "source": [
    "#### (iv) petal width "
   ]
  },
  {
   "cell_type": "code",
   "execution_count": 45,
   "id": "e08f8852",
   "metadata": {},
   "outputs": [
    {
     "data": {
      "text/plain": [
       "<AxesSubplot:xlabel='petal_width'>"
      ]
     },
     "execution_count": 45,
     "metadata": {},
     "output_type": "execute_result"
    },
    {
     "data": {
      "image/png": "[encoded data removed]",
      "text/plain": [
       "<Figure size 432x288 with 1 Axes>"
      ]
     },
     "metadata": {
      "needs_background": "light"
     },
     "output_type": "display_data"
    }
   ],
   "source": [
    "sns.boxplot(x = data['petal_width'])"
   ]
  },
  {
   "cell_type": "markdown",
   "id": "ce1432e3",
   "metadata": {},
   "source": [
    "### Part 4 - Compare distributions and identify outliers"
   ]
  },
  {
   "cell_type": "markdown",
   "id": "3624abd7",
   "metadata": {},
   "source": [
    "#### Observations "
   ]
  },
  {
   "cell_type": "markdown",
   "id": "a60ed62a",
   "metadata": {},
   "source": [
    "1. From the histograms, we can see that sepal width and sepal length are somewhat normally distributed \n"
   ]
  },
  {
   "cell_type": "markdown",
   "id": "f9417e3e",
   "metadata": {},
   "source": [
    "2. The petal length and petal width on the other hand, have two peaks and hence, are not normally distributed \n"
   ]
  },
  {
   "cell_type": "markdown",
   "id": "9f2c15fb",
   "metadata": {},
   "source": [
    "3. The median of sepal length is at 5.8 and the median of sepal width is at 3.0, there are a couple of outliers in      the sepal width data "
   ]
  },
  {
   "cell_type": "markdown",
   "id": "3622011b",
   "metadata": {},
   "source": [
    "4. The median of petal length is at 4.4 and the median of petal width is at 1.25, there are no outliers in the petal    data"
   ]
  },
  {
   "cell_type": "code",
   "execution_count": null,
   "id": "ff42a1cd",
   "metadata": {},
   "outputs": [],
   "source": []
  }
 ],
 "metadata": {
  "kernelspec": {
   "display_name": "Python 3 (ipykernel)",
   "language": "python",
   "name": "python3"
  },
  "language_info": {
   "codemirror_mode": {
    "name": "ipython",
    "version": 3
   },
   "file_extension": ".py",
   "mimetype": "text/x-python",
   "name": "python",
   "nbconvert_exporter": "python",
   "pygments_lexer": "ipython3",
   "version": "3.8.10"
  }
 },
 "nbformat": 4,
 "nbformat_minor": 5
}
