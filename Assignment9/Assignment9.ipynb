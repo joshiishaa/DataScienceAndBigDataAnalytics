{
 "cells": [
  {
   "cell_type": "markdown",
   "id": "678dbec5",
   "metadata": {},
   "source": [
    "## DSBDAL Assignment 9"
   ]
  },
  {
   "cell_type": "markdown",
   "id": "27590596",
   "metadata": {},
   "source": [
    "### Data Visualization II"
   ]
  },
  {
   "cell_type": "markdown",
   "id": "2712c964",
   "metadata": {},
   "source": [
    "#### Importing required libraries"
   ]
  },
  {
   "cell_type": "code",
   "execution_count": 1,
   "id": "a857e673",
   "metadata": {},
   "outputs": [],
   "source": [
    "##!pip install seaborn\n",
    "import seaborn as sns\n",
    "##!pip install datasets\n",
    "import matplotlib.pyplot as plt\n",
    "from scipy import stats\n",
    "import numpy as np"
   ]
  },
  {
   "cell_type": "markdown",
   "id": "fbd97e86",
   "metadata": {},
   "source": [
    "#### Loading the titanic dataset using seaborn"
   ]
  },
  {
   "cell_type": "code",
   "execution_count": 2,
   "id": "9aa761c0",
   "metadata": {},
   "outputs": [],
   "source": [
    "data = sns.load_dataset('titanic')"
   ]
  },
  {
   "cell_type": "code",
   "execution_count": 3,
   "id": "c743075b",
   "metadata": {},
   "outputs": [
    {
     "data": {
      "text/html": [
       "<div>\n",
       "<style scoped>\n",
       "    .dataframe tbody tr th:only-of-type {\n",
       "        vertical-align: middle;\n",
       "    }\n",
       "\n",
       "    .dataframe tbody tr th {\n",
       "        vertical-align: top;\n",
       "    }\n",
       "\n",
       "    .dataframe thead th {\n",
       "        text-align: right;\n",
       "    }\n",
       "</style>\n",
       "<table border=\"1\" class=\"dataframe\">\n",
       "  <thead>\n",
       "    <tr style=\"text-align: right;\">\n",
       "      <th></th>\n",
       "      <th>survived</th>\n",
       "      <th>pclass</th>\n",
       "      <th>sex</th>\n",
       "      <th>age</th>\n",
       "      <th>sibsp</th>\n",
       "      <th>parch</th>\n",
       "      <th>fare</th>\n",
       "      <th>embarked</th>\n",
       "      <th>class</th>\n",
       "      <th>who</th>\n",
       "      <th>adult_male</th>\n",
       "      <th>deck</th>\n",
       "      <th>embark_town</th>\n",
       "      <th>alive</th>\n",
       "      <th>alone</th>\n",
       "    </tr>\n",
       "  </thead>\n",
       "  <tbody>\n",
       "    <tr>\n",
       "      <th>0</th>\n",
       "      <td>0</td>\n",
       "      <td>3</td>\n",
       "      <td>male</td>\n",
       "      <td>22.0</td>\n",
       "      <td>1</td>\n",
       "      <td>0</td>\n",
       "      <td>7.2500</td>\n",
       "      <td>S</td>\n",
       "      <td>Third</td>\n",
       "      <td>man</td>\n",
       "      <td>True</td>\n",
       "      <td>NaN</td>\n",
       "      <td>Southampton</td>\n",
       "      <td>no</td>\n",
       "      <td>False</td>\n",
       "    </tr>\n",
       "    <tr>\n",
       "      <th>1</th>\n",
       "      <td>1</td>\n",
       "      <td>1</td>\n",
       "      <td>female</td>\n",
       "      <td>38.0</td>\n",
       "      <td>1</td>\n",
       "      <td>0</td>\n",
       "      <td>71.2833</td>\n",
       "      <td>C</td>\n",
       "      <td>First</td>\n",
       "      <td>woman</td>\n",
       "      <td>False</td>\n",
       "      <td>C</td>\n",
       "      <td>Cherbourg</td>\n",
       "      <td>yes</td>\n",
       "      <td>False</td>\n",
       "    </tr>\n",
       "    <tr>\n",
       "      <th>2</th>\n",
       "      <td>1</td>\n",
       "      <td>3</td>\n",
       "      <td>female</td>\n",
       "      <td>26.0</td>\n",
       "      <td>0</td>\n",
       "      <td>0</td>\n",
       "      <td>7.9250</td>\n",
       "      <td>S</td>\n",
       "      <td>Third</td>\n",
       "      <td>woman</td>\n",
       "      <td>False</td>\n",
       "      <td>NaN</td>\n",
       "      <td>Southampton</td>\n",
       "      <td>yes</td>\n",
       "      <td>True</td>\n",
       "    </tr>\n",
       "    <tr>\n",
       "      <th>3</th>\n",
       "      <td>1</td>\n",
       "      <td>1</td>\n",
       "      <td>female</td>\n",
       "      <td>35.0</td>\n",
       "      <td>1</td>\n",
       "      <td>0</td>\n",
       "      <td>53.1000</td>\n",
       "      <td>S</td>\n",
       "      <td>First</td>\n",
       "      <td>woman</td>\n",
       "      <td>False</td>\n",
       "      <td>C</td>\n",
       "      <td>Southampton</td>\n",
       "      <td>yes</td>\n",
       "      <td>False</td>\n",
       "    </tr>\n",
       "    <tr>\n",
       "      <th>4</th>\n",
       "      <td>0</td>\n",
       "      <td>3</td>\n",
       "      <td>male</td>\n",
       "      <td>35.0</td>\n",
       "      <td>0</td>\n",
       "      <td>0</td>\n",
       "      <td>8.0500</td>\n",
       "      <td>S</td>\n",
       "      <td>Third</td>\n",
       "      <td>man</td>\n",
       "      <td>True</td>\n",
       "      <td>NaN</td>\n",
       "      <td>Southampton</td>\n",
       "      <td>no</td>\n",
       "      <td>True</td>\n",
       "    </tr>\n",
       "  </tbody>\n",
       "</table>\n",
       "</div>"
      ],
      "text/plain": [
       "   survived  pclass     sex   age  sibsp  parch     fare embarked  class  \\\n",
       "0         0       3    male  22.0      1      0   7.2500        S  Third   \n",
       "1         1       1  female  38.0      1      0  71.2833        C  First   \n",
       "2         1       3  female  26.0      0      0   7.9250        S  Third   \n",
       "3         1       1  female  35.0      1      0  53.1000        S  First   \n",
       "4         0       3    male  35.0      0      0   8.0500        S  Third   \n",
       "\n",
       "     who  adult_male deck  embark_town alive  alone  \n",
       "0    man        True  NaN  Southampton    no  False  \n",
       "1  woman       False    C    Cherbourg   yes  False  \n",
       "2  woman       False  NaN  Southampton   yes   True  \n",
       "3  woman       False    C  Southampton   yes  False  \n",
       "4    man        True  NaN  Southampton    no   True  "
      ]
     },
     "execution_count": 3,
     "metadata": {},
     "output_type": "execute_result"
    }
   ],
   "source": [
    "data.head()"
   ]
  },
  {
   "cell_type": "code",
   "execution_count": 4,
   "id": "e10c3742",
   "metadata": {},
   "outputs": [
    {
     "data": {
      "text/plain": [
       "survived          int64\n",
       "pclass            int64\n",
       "sex              object\n",
       "age             float64\n",
       "sibsp             int64\n",
       "parch             int64\n",
       "fare            float64\n",
       "embarked         object\n",
       "class          category\n",
       "who              object\n",
       "adult_male         bool\n",
       "deck           category\n",
       "embark_town      object\n",
       "alive            object\n",
       "alone              bool\n",
       "dtype: object"
      ]
     },
     "execution_count": 4,
     "metadata": {},
     "output_type": "execute_result"
    }
   ],
   "source": [
    "data.dtypes"
   ]
  },
  {
   "cell_type": "code",
   "execution_count": 5,
   "id": "9fef5658",
   "metadata": {},
   "outputs": [
    {
     "data": {
      "text/plain": [
       "survived         0\n",
       "pclass           0\n",
       "sex              0\n",
       "age            177\n",
       "sibsp            0\n",
       "parch            0\n",
       "fare             0\n",
       "embarked         2\n",
       "class            0\n",
       "who              0\n",
       "adult_male       0\n",
       "deck           688\n",
       "embark_town      2\n",
       "alive            0\n",
       "alone            0\n",
       "dtype: int64"
      ]
     },
     "execution_count": 5,
     "metadata": {},
     "output_type": "execute_result"
    }
   ],
   "source": [
    "missing_values = data.isnull().sum()\n",
    "missing_values"
   ]
  },
  {
   "cell_type": "markdown",
   "id": "bed3aaa6",
   "metadata": {},
   "source": [
    "#### Dealing with missing values"
   ]
  },
  {
   "cell_type": "markdown",
   "id": "8400d8ac",
   "metadata": {},
   "source": [
    "#### (i) Age - replacing with mean"
   ]
  },
  {
   "cell_type": "code",
   "execution_count": 6,
   "id": "6641abc8",
   "metadata": {},
   "outputs": [],
   "source": [
    "nan_value = float(\"NaN\")\n",
    "data.replace(\"\",nan_value,inplace = True)\n",
    "data.age.replace(nan_value,data.age.mean(),inplace = True)"
   ]
  },
  {
   "cell_type": "markdown",
   "id": "e0c295f6",
   "metadata": {},
   "source": [
    "#### (ii) Deck - dropping the column"
   ]
  },
  {
   "cell_type": "code",
   "execution_count": 7,
   "id": "fad48be0",
   "metadata": {},
   "outputs": [],
   "source": [
    "data.drop(['deck'],axis=1,inplace = True)"
   ]
  },
  {
   "cell_type": "markdown",
   "id": "d65b3591",
   "metadata": {},
   "source": [
    "#### (iii) Embark town - replacing null values with the maximum value"
   ]
  },
  {
   "cell_type": "code",
   "execution_count": 8,
   "id": "50dc182b",
   "metadata": {},
   "outputs": [
    {
     "data": {
      "text/plain": [
       "Southampton    644\n",
       "Cherbourg      168\n",
       "Queenstown      77\n",
       "Name: embark_town, dtype: int64"
      ]
     },
     "execution_count": 8,
     "metadata": {},
     "output_type": "execute_result"
    }
   ],
   "source": [
    "data.embark_town.value_counts()"
   ]
  },
  {
   "cell_type": "code",
   "execution_count": 9,
   "id": "0a015859",
   "metadata": {},
   "outputs": [],
   "source": [
    "data['embark_town'].replace(nan_value,'Southampton',inplace = True)"
   ]
  },
  {
   "cell_type": "markdown",
   "id": "701c9f64",
   "metadata": {},
   "source": [
    "#### (iv) Embarked value - replacing null values with the max value"
   ]
  },
  {
   "cell_type": "code",
   "execution_count": 10,
   "id": "32142dbe",
   "metadata": {},
   "outputs": [
    {
     "data": {
      "text/plain": [
       "S    644\n",
       "C    168\n",
       "Q     77\n",
       "Name: embarked, dtype: int64"
      ]
     },
     "execution_count": 10,
     "metadata": {},
     "output_type": "execute_result"
    }
   ],
   "source": [
    "data.embarked.value_counts()"
   ]
  },
  {
   "cell_type": "code",
   "execution_count": 11,
   "id": "ecc36721",
   "metadata": {},
   "outputs": [],
   "source": [
    "data['embarked'].replace(nan_value,'S',inplace = True)"
   ]
  },
  {
   "cell_type": "code",
   "execution_count": 12,
   "id": "8faa223e",
   "metadata": {},
   "outputs": [
    {
     "data": {
      "text/plain": [
       "survived       0\n",
       "pclass         0\n",
       "sex            0\n",
       "age            0\n",
       "sibsp          0\n",
       "parch          0\n",
       "fare           0\n",
       "embarked       0\n",
       "class          0\n",
       "who            0\n",
       "adult_male     0\n",
       "embark_town    0\n",
       "alive          0\n",
       "alone          0\n",
       "dtype: int64"
      ]
     },
     "execution_count": 12,
     "metadata": {},
     "output_type": "execute_result"
    }
   ],
   "source": [
    "missing_values = data.isnull().sum()\n",
    "missing_values"
   ]
  },
  {
   "cell_type": "markdown",
   "id": "56ba9aa3",
   "metadata": {},
   "source": [
    "#### Converting categorical variables into numeric values"
   ]
  },
  {
   "cell_type": "markdown",
   "id": "74d94ab9",
   "metadata": {},
   "source": [
    "#### Male - 0, Female - 1"
   ]
  },
  {
   "cell_type": "code",
   "execution_count": 13,
   "id": "af32fead",
   "metadata": {},
   "outputs": [
    {
     "data": {
      "text/plain": [
       "male      577\n",
       "female    314\n",
       "Name: sex, dtype: int64"
      ]
     },
     "execution_count": 13,
     "metadata": {},
     "output_type": "execute_result"
    }
   ],
   "source": [
    "data.sex.value_counts()"
   ]
  },
  {
   "cell_type": "code",
   "execution_count": 14,
   "id": "377b20f2",
   "metadata": {},
   "outputs": [],
   "source": [
    "data.sex.replace(\"male\",\"0\",inplace=True)\n",
    "data.sex.replace(\"female\",\"1\",inplace = True)\n",
    "data.sex = data.sex.astype(int)"
   ]
  },
  {
   "cell_type": "markdown",
   "id": "33af6a9d",
   "metadata": {},
   "source": [
    "#### S - 0, C - 1, Q - 2"
   ]
  },
  {
   "cell_type": "code",
   "execution_count": 15,
   "id": "6f077f0e",
   "metadata": {},
   "outputs": [
    {
     "data": {
      "text/plain": [
       "S    646\n",
       "C    168\n",
       "Q     77\n",
       "Name: embarked, dtype: int64"
      ]
     },
     "execution_count": 15,
     "metadata": {},
     "output_type": "execute_result"
    }
   ],
   "source": [
    "data.embarked.value_counts()"
   ]
  },
  {
   "cell_type": "code",
   "execution_count": 16,
   "id": "3127042a",
   "metadata": {},
   "outputs": [],
   "source": [
    "data.embarked.replace(\"S\",\"0\",inplace=True)\n",
    "data.embarked.replace(\"C\",\"1\",inplace = True)\n",
    "data.embarked.replace(\"Q\",\"2\",inplace = True)\n",
    "data.embarked = data.embarked.astype(int)"
   ]
  },
  {
   "cell_type": "markdown",
   "id": "388f4626",
   "metadata": {},
   "source": [
    "#### Southhampton - 0, Cherbourg - 1,  Queenstown - 2"
   ]
  },
  {
   "cell_type": "code",
   "execution_count": 17,
   "id": "8928a368",
   "metadata": {},
   "outputs": [
    {
     "data": {
      "text/plain": [
       "Southampton    646\n",
       "Cherbourg      168\n",
       "Queenstown      77\n",
       "Name: embark_town, dtype: int64"
      ]
     },
     "execution_count": 17,
     "metadata": {},
     "output_type": "execute_result"
    }
   ],
   "source": [
    "data.embark_town.value_counts()"
   ]
  },
  {
   "cell_type": "code",
   "execution_count": 18,
   "id": "efa0bdf7",
   "metadata": {},
   "outputs": [],
   "source": [
    "data.embark_town.replace(\"Southampton\",0,inplace = True)\n",
    "data.embark_town.replace(\"Cherbourg\",1,inplace = True)\n",
    "data.embark_town.replace(\"Queenstown\",2,inplace = True)\n",
    "data.embark_town = data.embark_town.astype(int)"
   ]
  },
  {
   "cell_type": "markdown",
   "id": "ebf11a94",
   "metadata": {},
   "source": [
    "#### First - 0, Second - 1, Third - 2"
   ]
  },
  {
   "cell_type": "code",
   "execution_count": 19,
   "id": "9b8adc4c",
   "metadata": {},
   "outputs": [
    {
     "data": {
      "text/plain": [
       "Third     491\n",
       "First     216\n",
       "Second    184\n",
       "Name: class, dtype: int64"
      ]
     },
     "execution_count": 19,
     "metadata": {},
     "output_type": "execute_result"
    }
   ],
   "source": [
    "data['class'].value_counts()"
   ]
  },
  {
   "cell_type": "code",
   "execution_count": 20,
   "id": "1b20dd8e",
   "metadata": {},
   "outputs": [],
   "source": [
    "data['class'].replace('First','0',inplace = True)\n",
    "data['class'].replace('Second','1',inplace = True)\n",
    "data['class'].replace('Third','2',inplace = True)\n",
    "data['class'] = data['class'].astype(int)"
   ]
  },
  {
   "cell_type": "markdown",
   "id": "0a3532fd",
   "metadata": {},
   "source": [
    "#### Man - 0, Woman - 1, Child - 2"
   ]
  },
  {
   "cell_type": "code",
   "execution_count": 21,
   "id": "7f1bf939",
   "metadata": {},
   "outputs": [
    {
     "data": {
      "text/plain": [
       "man      537\n",
       "woman    271\n",
       "child     83\n",
       "Name: who, dtype: int64"
      ]
     },
     "execution_count": 21,
     "metadata": {},
     "output_type": "execute_result"
    }
   ],
   "source": [
    "data.who.value_counts()"
   ]
  },
  {
   "cell_type": "code",
   "execution_count": 22,
   "id": "1e2033bf",
   "metadata": {},
   "outputs": [],
   "source": [
    "data['who'].replace('man','0',inplace = True)\n",
    "data['who'].replace('woman','1',inplace = True)\n",
    "data['who'].replace('child','2',inplace = True)\n",
    "data['who'] = data['who'].astype(int)"
   ]
  },
  {
   "cell_type": "markdown",
   "id": "4d65240b",
   "metadata": {},
   "source": [
    "#### True - 1, False - 0"
   ]
  },
  {
   "cell_type": "code",
   "execution_count": 23,
   "id": "19e23b22",
   "metadata": {},
   "outputs": [
    {
     "data": {
      "text/plain": [
       "True     537\n",
       "False    354\n",
       "Name: adult_male, dtype: int64"
      ]
     },
     "execution_count": 23,
     "metadata": {},
     "output_type": "execute_result"
    }
   ],
   "source": [
    "data.adult_male.value_counts()"
   ]
  },
  {
   "cell_type": "code",
   "execution_count": 24,
   "id": "f08ea189",
   "metadata": {},
   "outputs": [],
   "source": [
    "data.adult_male = data.adult_male.astype(int)"
   ]
  },
  {
   "cell_type": "code",
   "execution_count": 25,
   "id": "c111a9da",
   "metadata": {},
   "outputs": [],
   "source": [
    "data.alone = data.alone.astype(int)"
   ]
  },
  {
   "cell_type": "code",
   "execution_count": 26,
   "id": "5fcbbeb2",
   "metadata": {},
   "outputs": [
    {
     "data": {
      "text/plain": [
       "no     549\n",
       "yes    342\n",
       "Name: alive, dtype: int64"
      ]
     },
     "execution_count": 26,
     "metadata": {},
     "output_type": "execute_result"
    }
   ],
   "source": [
    "data.alive.value_counts()"
   ]
  },
  {
   "cell_type": "code",
   "execution_count": 27,
   "id": "0bdb592e",
   "metadata": {},
   "outputs": [
    {
     "data": {
      "text/plain": [
       "0    549\n",
       "1    342\n",
       "Name: survived, dtype: int64"
      ]
     },
     "execution_count": 27,
     "metadata": {},
     "output_type": "execute_result"
    }
   ],
   "source": [
    "data.survived.value_counts()"
   ]
  },
  {
   "cell_type": "markdown",
   "id": "4f2ce328",
   "metadata": {},
   "source": [
    "#### Dropping alive"
   ]
  },
  {
   "cell_type": "code",
   "execution_count": 28,
   "id": "323e14e1",
   "metadata": {},
   "outputs": [],
   "source": [
    "data.drop(['alive'],axis=1,inplace = True)"
   ]
  },
  {
   "cell_type": "markdown",
   "id": "51cafd54",
   "metadata": {},
   "source": [
    "### Visualization and inference"
   ]
  },
  {
   "cell_type": "markdown",
   "id": "7650353a",
   "metadata": {},
   "source": [
    "### (i) Boxplot "
   ]
  },
  {
   "cell_type": "code",
   "execution_count": 40,
   "id": "fb38c31f",
   "metadata": {},
   "outputs": [
    {
     "data": {
      "text/plain": [
       "<AxesSubplot:xlabel='sex', ylabel='age'>"
      ]
     },
     "execution_count": 40,
     "metadata": {},
     "output_type": "execute_result"
    },
    {
     "data": {
      "image/png": "[encoded data removed]",
      "text/plain": [
       "<Figure size 432x288 with 1 Axes>"
      ]
     },
     "metadata": {
      "needs_background": "light"
     },
     "output_type": "display_data"
    }
   ],
   "source": [
    "sns.boxplot(y =data['age'], x =data['sex'], hue=data['survived'])"
   ]
  },
  {
   "cell_type": "code",
   "execution_count": 41,
   "id": "95bb4d07",
   "metadata": {},
   "outputs": [],
   "source": [
    "## Observations -\n",
    "## Females - median age of both who survived and died is 30, a lot of elderly women did not survive\n",
    "## Males - median age for both classes is roughly 30, a significant number of elderly men survived"
   ]
  },
  {
   "cell_type": "markdown",
   "id": "72438a90",
   "metadata": {},
   "source": [
    "### (ii) Barplot"
   ]
  },
  {
   "cell_type": "code",
   "execution_count": 42,
   "id": "fca3a58d",
   "metadata": {},
   "outputs": [
    {
     "data": {
      "text/plain": [
       "<AxesSubplot:xlabel='sex', ylabel='age'>"
      ]
     },
     "execution_count": 42,
     "metadata": {},
     "output_type": "execute_result"
    },
    {
     "data": {
      "image/png": "[encoded data removed]",
      "text/plain": [
       "<Figure size 432x288 with 1 Axes>"
      ]
     },
     "metadata": {
      "needs_background": "light"
     },
     "output_type": "display_data"
    }
   ],
   "source": [
    "sns.barplot(y =data['age'], x =data['sex'], hue=data['survived'])"
   ]
  },
  {
   "cell_type": "code",
   "execution_count": 43,
   "id": "6e969c0a",
   "metadata": {},
   "outputs": [],
   "source": [
    "## Observations -\n",
    "## The age range of women who survived is lesser than the age of men who survived \n",
    "## The age range of women who did not survive is more than that of men"
   ]
  },
  {
   "cell_type": "markdown",
   "id": "65f7e131",
   "metadata": {},
   "source": [
    "### (iii) Swarmplot"
   ]
  },
  {
   "cell_type": "code",
   "execution_count": 44,
   "id": "a70c1bb5",
   "metadata": {},
   "outputs": [
    {
     "name": "stderr",
     "output_type": "stream",
     "text": [
      "/home/pict/.local/lib/python3.8/site-packages/seaborn/categorical.py:1296: UserWarning: 27.4% of the points cannot be placed; you may want to decrease the size of the markers or use stripplot.\n",
      "  warnings.warn(msg, UserWarning)\n",
      "/home/pict/.local/lib/python3.8/site-packages/seaborn/categorical.py:1296: UserWarning: 15.0% of the points cannot be placed; you may want to decrease the size of the markers or use stripplot.\n",
      "  warnings.warn(msg, UserWarning)\n"
     ]
    },
    {
     "data": {
      "text/plain": [
       "<AxesSubplot:xlabel='sex', ylabel='age'>"
      ]
     },
     "execution_count": 44,
     "metadata": {},
     "output_type": "execute_result"
    },
    {
     "data": {
      "image/png": "[encoded data removed]",
      "text/plain": [
       "<Figure size 432x288 with 1 Axes>"
      ]
     },
     "metadata": {
      "needs_background": "light"
     },
     "output_type": "display_data"
    }
   ],
   "source": [
    "sns.swarmplot(y =data['age'], x =data['sex'], hue=data['survived'])"
   ]
  },
  {
   "cell_type": "code",
   "execution_count": 45,
   "id": "0aa72720",
   "metadata": {},
   "outputs": [],
   "source": [
    "## Observations \n",
    "## A very high number of women from different age groups survived \n",
    "## A very small number of men survived and a significant number of them are children"
   ]
  },
  {
   "cell_type": "markdown",
   "id": "e0165edf",
   "metadata": {},
   "source": [
    "### (iv) Stripplot"
   ]
  },
  {
   "cell_type": "code",
   "execution_count": 46,
   "id": "a0d97902",
   "metadata": {},
   "outputs": [
    {
     "data": {
      "text/plain": [
       "<AxesSubplot:xlabel='sex', ylabel='age'>"
      ]
     },
     "execution_count": 46,
     "metadata": {},
     "output_type": "execute_result"
    },
    {
     "data": {
      "image/png": "[encoded data removed]",
      "text/plain": [
       "<Figure size 432x288 with 1 Axes>"
      ]
     },
     "metadata": {
      "needs_background": "light"
     },
     "output_type": "display_data"
    }
   ],
   "source": [
    "sns.stripplot(y =data['age'], x =data['sex'], hue=data['survived'])"
   ]
  },
  {
   "cell_type": "code",
   "execution_count": 47,
   "id": "24c13ce0",
   "metadata": {},
   "outputs": [],
   "source": [
    "## Observations \n",
    "## A very high number of women from different age groups survived \n",
    "## A very small number of men survived and a significant number of them are children "
   ]
  },
  {
   "cell_type": "markdown",
   "id": "0fdbedd1",
   "metadata": {},
   "source": [
    "### (v) Violinplot"
   ]
  },
  {
   "cell_type": "code",
   "execution_count": 48,
   "id": "c9c25cef",
   "metadata": {},
   "outputs": [
    {
     "data": {
      "text/plain": [
       "<AxesSubplot:xlabel='sex', ylabel='age'>"
      ]
     },
     "execution_count": 48,
     "metadata": {},
     "output_type": "execute_result"
    },
    {
     "data": {
      "image/png": "[encoded data removed]",
      "text/plain": [
       "<Figure size 432x288 with 1 Axes>"
      ]
     },
     "metadata": {
      "needs_background": "light"
     },
     "output_type": "display_data"
    }
   ],
   "source": [
    "sns.violinplot(y =data['age'], x =data['sex'], hue=data['survived'])"
   ]
  },
  {
   "cell_type": "code",
   "execution_count": 49,
   "id": "5b44d76b",
   "metadata": {},
   "outputs": [],
   "source": [
    "## Observations \n",
    "## A significant number of men and women around their thirties survived as well as died\n",
    "## More number of women survived in their 30s than men "
   ]
  },
  {
   "cell_type": "markdown",
   "id": "03be6531",
   "metadata": {},
   "source": [
    "### (vi) Histplot"
   ]
  },
  {
   "cell_type": "code",
   "execution_count": 50,
   "id": "611bf39d",
   "metadata": {},
   "outputs": [
    {
     "data": {
      "text/plain": [
       "<AxesSubplot:xlabel='sex', ylabel='age'>"
      ]
     },
     "execution_count": 50,
     "metadata": {},
     "output_type": "execute_result"
    },
    {
     "data": {
      "image/png": "[encoded data removed]",
      "text/plain": [
       "<Figure size 432x288 with 1 Axes>"
      ]
     },
     "metadata": {
      "needs_background": "light"
     },
     "output_type": "display_data"
    }
   ],
   "source": [
    "sns.histplot(y =data['age'], x =data['sex'], hue=data['survived'])"
   ]
  },
  {
   "cell_type": "code",
   "execution_count": 51,
   "id": "9003e18c",
   "metadata": {},
   "outputs": [],
   "source": [
    "## Observations \n",
    "## Men in the range of 55 to 75 did not survive, whereas women in the range of 65 to 80 did not \n",
    "## Most men and women who did not survive were in the elderly range "
   ]
  },
  {
   "cell_type": "code",
   "execution_count": null,
   "id": "60c4e86c",
   "metadata": {},
   "outputs": [],
   "source": []
  }
 ],
 "metadata": {
  "kernelspec": {
   "display_name": "Python 3 (ipykernel)",
   "language": "python",
   "name": "python3"
  },
  "language_info": {
   "codemirror_mode": {
    "name": "ipython",
    "version": 3
   },
   "file_extension": ".py",
   "mimetype": "text/x-python",
   "name": "python",
   "nbconvert_exporter": "python",
   "pygments_lexer": "ipython3",
   "version": "3.8.10"
  }
 },
 "nbformat": 4,
 "nbformat_minor": 5
}
