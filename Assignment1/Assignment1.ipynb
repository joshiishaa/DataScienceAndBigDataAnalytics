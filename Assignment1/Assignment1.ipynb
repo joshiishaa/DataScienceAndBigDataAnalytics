{
 "cells": [
  {
   "cell_type": "markdown",
   "id": "4a3ab892",
   "metadata": {},
   "source": [
    "## DSBDAL Assignment 1\n",
    "\n",
    "## Data Wrangling, I"
   ]
  },
  {
   "cell_type": "markdown",
   "id": "119d3836",
   "metadata": {},
   "source": [
    "### Step 1 : Importing required libraries"
   ]
  },
  {
   "cell_type": "code",
   "execution_count": 1,
   "id": "01cb12e8",
   "metadata": {},
   "outputs": [
    {
     "name": "stderr",
     "output_type": "stream",
     "text": [
      "C:\\Users\\Isha\\anaconda3\\lib\\site-packages\\numpy\\_distributor_init.py:30: UserWarning: loaded more than 1 DLL from .libs:\n",
      "C:\\Users\\Isha\\anaconda3\\lib\\site-packages\\numpy\\.libs\\libopenblas.WCDJNK7YVMPZQ2ME2ZZHJJRJ3JIKNDB7.gfortran-win_amd64.dll\n",
      "C:\\Users\\Isha\\anaconda3\\lib\\site-packages\\numpy\\.libs\\libopenblas.xwydx2ikjw2nmtwsfyngfuwkqu3lytcz.gfortran-win_amd64.dll\n",
      "  warnings.warn(\"loaded more than 1 DLL from .libs:\"\n"
     ]
    }
   ],
   "source": [
    "import pandas as pd\n",
    "import string\n",
    "from nltk.corpus import stopwords\n",
    "import warnings\n",
    "warnings.filterwarnings('ignore')\n",
    "from sklearn import preprocessing"
   ]
  },
  {
   "cell_type": "markdown",
   "id": "035528c0",
   "metadata": {},
   "source": [
    "### Step 2 & 3: Locating the dataset and describing it \n"
   ]
  },
  {
   "cell_type": "code",
   "execution_count": 2,
   "id": "29525405",
   "metadata": {},
   "outputs": [],
   "source": [
    "### The data contains information about house prices in Melbourne and other features \n",
    "### The dataset can be found at - https://www.kaggle.com/anthonypino/melbourne-housing-market?select=Melbourne_housing_FULL.csv"
   ]
  },
  {
   "cell_type": "markdown",
   "id": "fa9b2052",
   "metadata": {},
   "source": [
    "### Step 4 - Loading the dataset into a pandas dataframe"
   ]
  },
  {
   "cell_type": "code",
   "execution_count": 3,
   "id": "86513b5a",
   "metadata": {},
   "outputs": [
    {
     "data": {
      "text/html": [
       "<div>\n",
       "<style scoped>\n",
       "    .dataframe tbody tr th:only-of-type {\n",
       "        vertical-align: middle;\n",
       "    }\n",
       "\n",
       "    .dataframe tbody tr th {\n",
       "        vertical-align: top;\n",
       "    }\n",
       "\n",
       "    .dataframe thead th {\n",
       "        text-align: right;\n",
       "    }\n",
       "</style>\n",
       "<table border=\"1\" class=\"dataframe\">\n",
       "  <thead>\n",
       "    <tr style=\"text-align: right;\">\n",
       "      <th></th>\n",
       "      <th>Suburb</th>\n",
       "      <th>Address</th>\n",
       "      <th>Rooms</th>\n",
       "      <th>Type</th>\n",
       "      <th>Price</th>\n",
       "      <th>Method</th>\n",
       "      <th>SellerG</th>\n",
       "      <th>Date</th>\n",
       "      <th>Distance</th>\n",
       "      <th>Postcode</th>\n",
       "    </tr>\n",
       "  </thead>\n",
       "  <tbody>\n",
       "    <tr>\n",
       "      <th>0</th>\n",
       "      <td>Abbotsford</td>\n",
       "      <td>68 Studley St</td>\n",
       "      <td>2</td>\n",
       "      <td>h</td>\n",
       "      <td>NaN</td>\n",
       "      <td>SS</td>\n",
       "      <td>Jellis</td>\n",
       "      <td>3/09/2016</td>\n",
       "      <td>2.5</td>\n",
       "      <td>3067.0</td>\n",
       "    </tr>\n",
       "    <tr>\n",
       "      <th>1</th>\n",
       "      <td>Abbotsford</td>\n",
       "      <td>85 Turner St</td>\n",
       "      <td>2</td>\n",
       "      <td>h</td>\n",
       "      <td>1480000.0</td>\n",
       "      <td>S</td>\n",
       "      <td>Biggin</td>\n",
       "      <td>3/12/2016</td>\n",
       "      <td>2.5</td>\n",
       "      <td>3067.0</td>\n",
       "    </tr>\n",
       "    <tr>\n",
       "      <th>2</th>\n",
       "      <td>Abbotsford</td>\n",
       "      <td>25 Bloomburg St</td>\n",
       "      <td>2</td>\n",
       "      <td>h</td>\n",
       "      <td>1035000.0</td>\n",
       "      <td>S</td>\n",
       "      <td>Biggin</td>\n",
       "      <td>4/02/2016</td>\n",
       "      <td>2.5</td>\n",
       "      <td>3067.0</td>\n",
       "    </tr>\n",
       "    <tr>\n",
       "      <th>3</th>\n",
       "      <td>Abbotsford</td>\n",
       "      <td>18/659 Victoria St</td>\n",
       "      <td>3</td>\n",
       "      <td>u</td>\n",
       "      <td>NaN</td>\n",
       "      <td>VB</td>\n",
       "      <td>Rounds</td>\n",
       "      <td>4/02/2016</td>\n",
       "      <td>2.5</td>\n",
       "      <td>3067.0</td>\n",
       "    </tr>\n",
       "    <tr>\n",
       "      <th>4</th>\n",
       "      <td>Abbotsford</td>\n",
       "      <td>5 Charles St</td>\n",
       "      <td>3</td>\n",
       "      <td>h</td>\n",
       "      <td>1465000.0</td>\n",
       "      <td>SP</td>\n",
       "      <td>Biggin</td>\n",
       "      <td>4/03/2017</td>\n",
       "      <td>2.5</td>\n",
       "      <td>3067.0</td>\n",
       "    </tr>\n",
       "  </tbody>\n",
       "</table>\n",
       "</div>"
      ],
      "text/plain": [
       "       Suburb             Address  Rooms Type      Price Method SellerG  \\\n",
       "0  Abbotsford       68 Studley St      2    h        NaN     SS  Jellis   \n",
       "1  Abbotsford        85 Turner St      2    h  1480000.0      S  Biggin   \n",
       "2  Abbotsford     25 Bloomburg St      2    h  1035000.0      S  Biggin   \n",
       "3  Abbotsford  18/659 Victoria St      3    u        NaN     VB  Rounds   \n",
       "4  Abbotsford        5 Charles St      3    h  1465000.0     SP  Biggin   \n",
       "\n",
       "        Date  Distance  Postcode  \n",
       "0  3/09/2016       2.5    3067.0  \n",
       "1  3/12/2016       2.5    3067.0  \n",
       "2  4/02/2016       2.5    3067.0  \n",
       "3  4/02/2016       2.5    3067.0  \n",
       "4  4/03/2017       2.5    3067.0  "
      ]
     },
     "execution_count": 3,
     "metadata": {},
     "output_type": "execute_result"
    }
   ],
   "source": [
    "data = pd.read_csv('Melbourne_housing_FULL.csv') # Loading the csv file into a pandas dataframe \n",
    "data.drop(data.iloc[:,10:21], inplace=True, axis=1) # Dropping the rest of the columns of the dataset \n",
    "data.head()"
   ]
  },
  {
   "cell_type": "markdown",
   "id": "adfbce7d",
   "metadata": {},
   "source": [
    "### Step 5 : Data preprocessing "
   ]
  },
  {
   "cell_type": "markdown",
   "id": "caf5d8f0",
   "metadata": {},
   "source": [
    "#### Using the describe() function "
   ]
  },
  {
   "cell_type": "code",
   "execution_count": 4,
   "id": "36d69f56",
   "metadata": {},
   "outputs": [
    {
     "data": {
      "text/html": [
       "<div>\n",
       "<style scoped>\n",
       "    .dataframe tbody tr th:only-of-type {\n",
       "        vertical-align: middle;\n",
       "    }\n",
       "\n",
       "    .dataframe tbody tr th {\n",
       "        vertical-align: top;\n",
       "    }\n",
       "\n",
       "    .dataframe thead th {\n",
       "        text-align: right;\n",
       "    }\n",
       "</style>\n",
       "<table border=\"1\" class=\"dataframe\">\n",
       "  <thead>\n",
       "    <tr style=\"text-align: right;\">\n",
       "      <th></th>\n",
       "      <th>Rooms</th>\n",
       "      <th>Price</th>\n",
       "      <th>Distance</th>\n",
       "      <th>Postcode</th>\n",
       "    </tr>\n",
       "  </thead>\n",
       "  <tbody>\n",
       "    <tr>\n",
       "      <th>count</th>\n",
       "      <td>34857.000000</td>\n",
       "      <td>2.724700e+04</td>\n",
       "      <td>34856.000000</td>\n",
       "      <td>34856.000000</td>\n",
       "    </tr>\n",
       "    <tr>\n",
       "      <th>mean</th>\n",
       "      <td>3.031012</td>\n",
       "      <td>1.050173e+06</td>\n",
       "      <td>11.184929</td>\n",
       "      <td>3116.062859</td>\n",
       "    </tr>\n",
       "    <tr>\n",
       "      <th>std</th>\n",
       "      <td>0.969933</td>\n",
       "      <td>6.414671e+05</td>\n",
       "      <td>6.788892</td>\n",
       "      <td>109.023903</td>\n",
       "    </tr>\n",
       "    <tr>\n",
       "      <th>min</th>\n",
       "      <td>1.000000</td>\n",
       "      <td>8.500000e+04</td>\n",
       "      <td>0.000000</td>\n",
       "      <td>3000.000000</td>\n",
       "    </tr>\n",
       "    <tr>\n",
       "      <th>25%</th>\n",
       "      <td>2.000000</td>\n",
       "      <td>6.350000e+05</td>\n",
       "      <td>6.400000</td>\n",
       "      <td>3051.000000</td>\n",
       "    </tr>\n",
       "    <tr>\n",
       "      <th>50%</th>\n",
       "      <td>3.000000</td>\n",
       "      <td>8.700000e+05</td>\n",
       "      <td>10.300000</td>\n",
       "      <td>3103.000000</td>\n",
       "    </tr>\n",
       "    <tr>\n",
       "      <th>75%</th>\n",
       "      <td>4.000000</td>\n",
       "      <td>1.295000e+06</td>\n",
       "      <td>14.000000</td>\n",
       "      <td>3156.000000</td>\n",
       "    </tr>\n",
       "    <tr>\n",
       "      <th>max</th>\n",
       "      <td>16.000000</td>\n",
       "      <td>1.120000e+07</td>\n",
       "      <td>48.100000</td>\n",
       "      <td>3978.000000</td>\n",
       "    </tr>\n",
       "  </tbody>\n",
       "</table>\n",
       "</div>"
      ],
      "text/plain": [
       "              Rooms         Price      Distance      Postcode\n",
       "count  34857.000000  2.724700e+04  34856.000000  34856.000000\n",
       "mean       3.031012  1.050173e+06     11.184929   3116.062859\n",
       "std        0.969933  6.414671e+05      6.788892    109.023903\n",
       "min        1.000000  8.500000e+04      0.000000   3000.000000\n",
       "25%        2.000000  6.350000e+05      6.400000   3051.000000\n",
       "50%        3.000000  8.700000e+05     10.300000   3103.000000\n",
       "75%        4.000000  1.295000e+06     14.000000   3156.000000\n",
       "max       16.000000  1.120000e+07     48.100000   3978.000000"
      ]
     },
     "execution_count": 4,
     "metadata": {},
     "output_type": "execute_result"
    }
   ],
   "source": [
    "data.describe()\n",
    "\n",
    "# Gives us information about all the numerical data in the dataset "
   ]
  },
  {
   "cell_type": "markdown",
   "id": "0ea54f2f",
   "metadata": {},
   "source": [
    "#### Dimensions of the dataframe"
   ]
  },
  {
   "cell_type": "code",
   "execution_count": 5,
   "id": "df411a75",
   "metadata": {},
   "outputs": [
    {
     "name": "stdout",
     "output_type": "stream",
     "text": [
      "34857 x 10\n"
     ]
    }
   ],
   "source": [
    "print(data.shape[0],\"x\",data.shape[1]) ## Number of rows x number of columns "
   ]
  },
  {
   "cell_type": "markdown",
   "id": "6c0e2d6d",
   "metadata": {},
   "source": [
    "#### Checking for missing values "
   ]
  },
  {
   "cell_type": "code",
   "execution_count": 6,
   "id": "7051c036",
   "metadata": {},
   "outputs": [
    {
     "data": {
      "text/plain": [
       "Suburb         0\n",
       "Address        0\n",
       "Rooms          0\n",
       "Type           0\n",
       "Price       7610\n",
       "Method         0\n",
       "SellerG        0\n",
       "Date           0\n",
       "Distance       1\n",
       "Postcode       1\n",
       "dtype: int64"
      ]
     },
     "execution_count": 6,
     "metadata": {},
     "output_type": "execute_result"
    }
   ],
   "source": [
    "missing_values_count = data.isnull().sum() ## summing up the null value counts for all columns \n",
    "missing_values_count[0:10]\n",
    "\n",
    "## Price, Postcode and Distance have missing values "
   ]
  },
  {
   "cell_type": "markdown",
   "id": "6205ae37",
   "metadata": {},
   "source": [
    "#### Datatypes of the columns of data "
   ]
  },
  {
   "cell_type": "code",
   "execution_count": 7,
   "id": "4b17269f",
   "metadata": {},
   "outputs": [
    {
     "data": {
      "text/plain": [
       "Suburb       object\n",
       "Address      object\n",
       "Rooms         int64\n",
       "Type         object\n",
       "Price       float64\n",
       "Method       object\n",
       "SellerG      object\n",
       "Date         object\n",
       "Distance    float64\n",
       "Postcode    float64\n",
       "dtype: object"
      ]
     },
     "execution_count": 7,
     "metadata": {},
     "output_type": "execute_result"
    }
   ],
   "source": [
    "data.dtypes ## object = str, date etc."
   ]
  },
  {
   "cell_type": "markdown",
   "id": "e577242c",
   "metadata": {},
   "source": [
    "#### Description of the data "
   ]
  },
  {
   "cell_type": "code",
   "execution_count": 8,
   "id": "adf337e4",
   "metadata": {},
   "outputs": [
    {
     "name": "stdout",
     "output_type": "stream",
     "text": [
      "Reservoir          844\n",
      "Bentleigh East     583\n",
      "Richmond           552\n",
      "Glen Iris          491\n",
      "Preston            485\n",
      "                  ... \n",
      "Belgrave             1\n",
      "Cranbourne East      1\n",
      "Yarra Glen           1\n",
      "Olinda               1\n",
      "Menzies Creek        1\n",
      "Name: Suburb, Length: 351, dtype: int64\n",
      "The data type :  object\n"
     ]
    }
   ],
   "source": [
    "## Suburb - suburb the house is located in \n",
    "print(data.Suburb.value_counts())\n",
    "print(\"The data type : \",data.Suburb.dtype)\n",
    "\n",
    "## 351 unique values "
   ]
  },
  {
   "cell_type": "code",
   "execution_count": 9,
   "id": "8afd3185",
   "metadata": {},
   "outputs": [
    {
     "name": "stdout",
     "output_type": "stream",
     "text": [
      "The data type :  object\n"
     ]
    }
   ],
   "source": [
    "## Address - address of the house\n",
    "print(\"The data type : \",data.Address.dtype)"
   ]
  },
  {
   "cell_type": "code",
   "execution_count": 10,
   "id": "f7b307f0",
   "metadata": {},
   "outputs": [
    {
     "name": "stdout",
     "output_type": "stream",
     "text": [
      "3     15084\n",
      "2      8332\n",
      "4      7956\n",
      "5      1737\n",
      "1      1479\n",
      "6       204\n",
      "7        32\n",
      "8        19\n",
      "10        6\n",
      "9         4\n",
      "12        3\n",
      "16        1\n",
      "Name: Rooms, dtype: int64\n",
      "The data type :  int64\n",
      "Max value :  16\n"
     ]
    }
   ],
   "source": [
    "## Rooms - the number of rooms\n",
    "print(data.Rooms.value_counts())\n",
    "print(\"The data type : \",data.Rooms.dtype)\n",
    "print(\"Max value : \",data.Rooms.max())\n",
    "## 12 unique values "
   ]
  },
  {
   "cell_type": "code",
   "execution_count": 11,
   "id": "bac595e5",
   "metadata": {},
   "outputs": [
    {
     "name": "stdout",
     "output_type": "stream",
     "text": [
      "h    23980\n",
      "u     7297\n",
      "t     3580\n",
      "Name: Type, dtype: int64\n",
      "The data type :  object\n"
     ]
    }
   ],
   "source": [
    "## Type - type of house (eg-villa, cottage etc.)\n",
    "    #h - house,cottage,villa, semi,terrace;\n",
    "    #u - unit, duplex;\n",
    "    #t - townhouse;\n",
    "print(data.Type.value_counts())\n",
    "print(\"The data type : \",data.Type.dtype)\n",
    "\n",
    "## 3 unique values "
   ]
  },
  {
   "cell_type": "code",
   "execution_count": 12,
   "id": "8b187844",
   "metadata": {},
   "outputs": [
    {
     "name": "stdout",
     "output_type": "stream",
     "text": [
      "The data type :  float64\n",
      "Max value :  11200000.0\n"
     ]
    }
   ],
   "source": [
    "## Price - price of the house in australian dollars\n",
    "print(\"The data type : \",data.Price.dtype)\n",
    "print(\"Max value : \",data.Price.max())"
   ]
  },
  {
   "cell_type": "code",
   "execution_count": 13,
   "id": "d10b7433",
   "metadata": {},
   "outputs": [
    {
     "name": "stdout",
     "output_type": "stream",
     "text": [
      "S     19744\n",
      "SP     5095\n",
      "PI     4850\n",
      "VB     3108\n",
      "SN     1317\n",
      "PN      308\n",
      "SA      226\n",
      "W       173\n",
      "SS       36\n",
      "Name: Method, dtype: int64\n",
      "The data type :  object\n"
     ]
    }
   ],
   "source": [
    "## Method - method of sale \n",
    "    #S - property sold;\n",
    "    #SP - property sold prior;\n",
    "    #PI - property passed in;\n",
    "    #PN - sold prior not disclosed;\n",
    "    #SN - sold not disclosed;\n",
    "    #NB - no bid;\n",
    "    #VB - vendor bid;\n",
    "    #W - withdrawn prior to auction;\n",
    "    #SA - sold after auction;\n",
    "    #SS - sold after auction price not disclosed.\n",
    "    #N/A - price or highest bid not available.\n",
    "\n",
    "print(data.Method.value_counts())\n",
    "print(\"The data type : \",data.Method.dtype)\n",
    "\n",
    "## 9 unique values "
   ]
  },
  {
   "cell_type": "code",
   "execution_count": 14,
   "id": "5292d690",
   "metadata": {},
   "outputs": [
    {
     "name": "stdout",
     "output_type": "stream",
     "text": [
      "Jellis             3359\n",
      "Nelson             3236\n",
      "Barry              3235\n",
      "hockingstuart      2623\n",
      "Marshall           2027\n",
      "                   ... \n",
      "Clairmont             1\n",
      "Buxton/Find           1\n",
      "Harcourts/Barry       1\n",
      "Silver                1\n",
      "Methven               1\n",
      "Name: SellerG, Length: 388, dtype: int64\n",
      "The data type :  object\n"
     ]
    }
   ],
   "source": [
    "## SellerG - the real estate agent \n",
    "print(data.SellerG.value_counts())\n",
    "print(\"The data type : \",data.SellerG.dtype)\n",
    "\n",
    "## 388 unique values "
   ]
  },
  {
   "cell_type": "code",
   "execution_count": 15,
   "id": "ea0c702b",
   "metadata": {},
   "outputs": [
    {
     "name": "stdout",
     "output_type": "stream",
     "text": [
      "The data type :  object\n",
      "Max value :  9/12/2017\n"
     ]
    }
   ],
   "source": [
    "## Date - date of sale \n",
    "print(\"The data type : \",data.Date.dtype)\n",
    "print(\"Max value : \",data.Date.max())"
   ]
  },
  {
   "cell_type": "code",
   "execution_count": 16,
   "id": "7b8a79d9",
   "metadata": {},
   "outputs": [
    {
     "name": "stdout",
     "output_type": "stream",
     "text": [
      "The data type :  float64\n",
      "Max value :  48.1\n"
     ]
    }
   ],
   "source": [
    "## Distance - distance from central business district (CBD)\n",
    "print(\"The data type : \",data.Distance.dtype)\n",
    "print(\"Max value : \",data.Distance.max())\n"
   ]
  },
  {
   "cell_type": "code",
   "execution_count": 17,
   "id": "84e3d868",
   "metadata": {},
   "outputs": [
    {
     "name": "stdout",
     "output_type": "stream",
     "text": [
      "The data type :  float64\n"
     ]
    }
   ],
   "source": [
    "## Postcode - postcode of the house \n",
    "print(\"The data type : \",data.Postcode.dtype)\n"
   ]
  },
  {
   "cell_type": "markdown",
   "id": "cc5509c8",
   "metadata": {},
   "source": [
    "### Step 6 : Data formatting and normalization "
   ]
  },
  {
   "cell_type": "markdown",
   "id": "5daf0841",
   "metadata": {},
   "source": [
    "#### Datatypes of all the columns "
   ]
  },
  {
   "cell_type": "code",
   "execution_count": 18,
   "id": "fd665e0f",
   "metadata": {},
   "outputs": [
    {
     "data": {
      "text/plain": [
       "Suburb       object\n",
       "Address      object\n",
       "Rooms         int64\n",
       "Type         object\n",
       "Price       float64\n",
       "Method       object\n",
       "SellerG      object\n",
       "Date         object\n",
       "Distance    float64\n",
       "Postcode    float64\n",
       "dtype: object"
      ]
     },
     "execution_count": 18,
     "metadata": {},
     "output_type": "execute_result"
    }
   ],
   "source": [
    "data.dtypes"
   ]
  },
  {
   "cell_type": "markdown",
   "id": "c308b8e6",
   "metadata": {},
   "source": [
    "#### Data formatting"
   ]
  },
  {
   "cell_type": "code",
   "execution_count": 19,
   "id": "39fe8472",
   "metadata": {},
   "outputs": [],
   "source": [
    "nan_value = float(\"NaN\")\n",
    "## Converting the empty strings into a NaN format \n",
    "data.replace(\"\", nan_value, inplace=True)\n",
    "## Replacing missing price with mean of price\n",
    "data.Price.replace(nan_value,data.Price.mean(),inplace=True)\n",
    "## Dropping rows with missing distance and postcode since it is only 2 rows\n",
    "data.dropna(subset = [\"Distance\",\"Postcode\"], inplace=True)\n",
    "data.Postcode = data.Postcode.astype(str)"
   ]
  },
  {
   "cell_type": "code",
   "execution_count": 20,
   "id": "77273eb3",
   "metadata": {},
   "outputs": [
    {
     "data": {
      "text/plain": [
       "Suburb      0\n",
       "Address     0\n",
       "Rooms       0\n",
       "Type        0\n",
       "Price       0\n",
       "Method      0\n",
       "SellerG     0\n",
       "Date        0\n",
       "Distance    0\n",
       "Postcode    0\n",
       "dtype: int64"
      ]
     },
     "execution_count": 20,
     "metadata": {},
     "output_type": "execute_result"
    }
   ],
   "source": [
    "missing_values_count = data.isnull().sum()\n",
    "missing_values_count[0:10]"
   ]
  },
  {
   "cell_type": "markdown",
   "id": "67194c2b",
   "metadata": {},
   "source": [
    "#### Normalizing the data "
   ]
  },
  {
   "cell_type": "code",
   "execution_count": 21,
   "id": "dc7267a9",
   "metadata": {},
   "outputs": [],
   "source": [
    "\n",
    "# For each value in a feature MinMaxScaler subtracts the minimum value in the feature and then divides by the range\n",
    "scaler = preprocessing.MinMaxScaler()\n",
    "data.iloc[:,[4,8]] = scaler.fit_transform(data.iloc[:,[4,8]])"
   ]
  },
  {
   "cell_type": "code",
   "execution_count": 22,
   "id": "05d67983",
   "metadata": {},
   "outputs": [
    {
     "data": {
      "text/html": [
       "<div>\n",
       "<style scoped>\n",
       "    .dataframe tbody tr th:only-of-type {\n",
       "        vertical-align: middle;\n",
       "    }\n",
       "\n",
       "    .dataframe tbody tr th {\n",
       "        vertical-align: top;\n",
       "    }\n",
       "\n",
       "    .dataframe thead th {\n",
       "        text-align: right;\n",
       "    }\n",
       "</style>\n",
       "<table border=\"1\" class=\"dataframe\">\n",
       "  <thead>\n",
       "    <tr style=\"text-align: right;\">\n",
       "      <th></th>\n",
       "      <th>Suburb</th>\n",
       "      <th>Address</th>\n",
       "      <th>Rooms</th>\n",
       "      <th>Type</th>\n",
       "      <th>Price</th>\n",
       "      <th>Method</th>\n",
       "      <th>SellerG</th>\n",
       "      <th>Date</th>\n",
       "      <th>Distance</th>\n",
       "      <th>Postcode</th>\n",
       "    </tr>\n",
       "  </thead>\n",
       "  <tbody>\n",
       "    <tr>\n",
       "      <th>0</th>\n",
       "      <td>Abbotsford</td>\n",
       "      <td>68 Studley St</td>\n",
       "      <td>2</td>\n",
       "      <td>h</td>\n",
       "      <td>0.086835</td>\n",
       "      <td>SS</td>\n",
       "      <td>Jellis</td>\n",
       "      <td>3/09/2016</td>\n",
       "      <td>0.051975</td>\n",
       "      <td>3067.0</td>\n",
       "    </tr>\n",
       "    <tr>\n",
       "      <th>1</th>\n",
       "      <td>Abbotsford</td>\n",
       "      <td>85 Turner St</td>\n",
       "      <td>2</td>\n",
       "      <td>h</td>\n",
       "      <td>0.125506</td>\n",
       "      <td>S</td>\n",
       "      <td>Biggin</td>\n",
       "      <td>3/12/2016</td>\n",
       "      <td>0.051975</td>\n",
       "      <td>3067.0</td>\n",
       "    </tr>\n",
       "    <tr>\n",
       "      <th>2</th>\n",
       "      <td>Abbotsford</td>\n",
       "      <td>25 Bloomburg St</td>\n",
       "      <td>2</td>\n",
       "      <td>h</td>\n",
       "      <td>0.085470</td>\n",
       "      <td>S</td>\n",
       "      <td>Biggin</td>\n",
       "      <td>4/02/2016</td>\n",
       "      <td>0.051975</td>\n",
       "      <td>3067.0</td>\n",
       "    </tr>\n",
       "    <tr>\n",
       "      <th>3</th>\n",
       "      <td>Abbotsford</td>\n",
       "      <td>18/659 Victoria St</td>\n",
       "      <td>3</td>\n",
       "      <td>u</td>\n",
       "      <td>0.086835</td>\n",
       "      <td>VB</td>\n",
       "      <td>Rounds</td>\n",
       "      <td>4/02/2016</td>\n",
       "      <td>0.051975</td>\n",
       "      <td>3067.0</td>\n",
       "    </tr>\n",
       "    <tr>\n",
       "      <th>4</th>\n",
       "      <td>Abbotsford</td>\n",
       "      <td>5 Charles St</td>\n",
       "      <td>3</td>\n",
       "      <td>h</td>\n",
       "      <td>0.124157</td>\n",
       "      <td>SP</td>\n",
       "      <td>Biggin</td>\n",
       "      <td>4/03/2017</td>\n",
       "      <td>0.051975</td>\n",
       "      <td>3067.0</td>\n",
       "    </tr>\n",
       "  </tbody>\n",
       "</table>\n",
       "</div>"
      ],
      "text/plain": [
       "       Suburb             Address  Rooms Type     Price Method SellerG  \\\n",
       "0  Abbotsford       68 Studley St      2    h  0.086835     SS  Jellis   \n",
       "1  Abbotsford        85 Turner St      2    h  0.125506      S  Biggin   \n",
       "2  Abbotsford     25 Bloomburg St      2    h  0.085470      S  Biggin   \n",
       "3  Abbotsford  18/659 Victoria St      3    u  0.086835     VB  Rounds   \n",
       "4  Abbotsford        5 Charles St      3    h  0.124157     SP  Biggin   \n",
       "\n",
       "        Date  Distance Postcode  \n",
       "0  3/09/2016  0.051975   3067.0  \n",
       "1  3/12/2016  0.051975   3067.0  \n",
       "2  4/02/2016  0.051975   3067.0  \n",
       "3  4/02/2016  0.051975   3067.0  \n",
       "4  4/03/2017  0.051975   3067.0  "
      ]
     },
     "execution_count": 22,
     "metadata": {},
     "output_type": "execute_result"
    }
   ],
   "source": [
    "data.head()"
   ]
  },
  {
   "cell_type": "markdown",
   "id": "4fb3757b",
   "metadata": {},
   "source": [
    "### Step 7 : Converting categorical values into quantitative values"
   ]
  },
  {
   "cell_type": "code",
   "execution_count": 23,
   "id": "caf6b1a4",
   "metadata": {},
   "outputs": [],
   "source": [
    "# Creating a dictionary to avoid confusion while replcaing \n",
    "htype = {'h':\"0\",'u':\"1\",'t':\"2\"}\n",
    "method = {\"S\":\"0\",\"SP\" :\"1\",\"PI\":\"2\",\"VB\":\"3\",\"SA\":\"4\",\"SN\":\"5\",\"PN\":\"6\",\"W\":\"7\",\"SS\":\"8\"}\n"
   ]
  },
  {
   "cell_type": "code",
   "execution_count": 24,
   "id": "3eb3a581",
   "metadata": {},
   "outputs": [],
   "source": [
    "# To replace house types with numbers\n",
    "def process(text):\n",
    "    text = text.replace('h', htype['h']).replace('u', htype['u']).replace('t', htype['t'])\n",
    "    text = text.encode(\"utf8\").decode(\"ascii\",'ignore')\n",
    "    text = \" \".join(text.split())\n",
    "    return text\n",
    "\n",
    "data.Type = data.Type.apply(process)"
   ]
  },
  {
   "cell_type": "code",
   "execution_count": 25,
   "id": "a9cfc328",
   "metadata": {},
   "outputs": [],
   "source": [
    "# To replace method of sale with numbers \n",
    "def process2(text):\n",
    "    text = text.replace('SP', method['SP']).replace('SN', method['SN']).replace('SS', method['SS']).replace('PI', method['PI']).replace('PN', method['PN']).replace('SA', method['SA']).replace('VB', method['VB']).replace(\"S\", method[\"S\"]).replace('W', method['W'])\n",
    "    text = text.encode(\"utf8\").decode(\"ascii\",'ignore')\n",
    "    text = \" \".join(text.split())\n",
    "    return text\n",
    "data.Method = data.Method.apply(process2)"
   ]
  },
  {
   "cell_type": "code",
   "execution_count": 26,
   "id": "eaa29859",
   "metadata": {},
   "outputs": [
    {
     "data": {
      "text/html": [
       "<div>\n",
       "<style scoped>\n",
       "    .dataframe tbody tr th:only-of-type {\n",
       "        vertical-align: middle;\n",
       "    }\n",
       "\n",
       "    .dataframe tbody tr th {\n",
       "        vertical-align: top;\n",
       "    }\n",
       "\n",
       "    .dataframe thead th {\n",
       "        text-align: right;\n",
       "    }\n",
       "</style>\n",
       "<table border=\"1\" class=\"dataframe\">\n",
       "  <thead>\n",
       "    <tr style=\"text-align: right;\">\n",
       "      <th></th>\n",
       "      <th>Suburb</th>\n",
       "      <th>Address</th>\n",
       "      <th>Rooms</th>\n",
       "      <th>Type</th>\n",
       "      <th>Price</th>\n",
       "      <th>Method</th>\n",
       "      <th>SellerG</th>\n",
       "      <th>Date</th>\n",
       "      <th>Distance</th>\n",
       "      <th>Postcode</th>\n",
       "    </tr>\n",
       "  </thead>\n",
       "  <tbody>\n",
       "    <tr>\n",
       "      <th>0</th>\n",
       "      <td>Abbotsford</td>\n",
       "      <td>68 Studley St</td>\n",
       "      <td>2</td>\n",
       "      <td>0</td>\n",
       "      <td>0.086835</td>\n",
       "      <td>8</td>\n",
       "      <td>Jellis</td>\n",
       "      <td>3/09/2016</td>\n",
       "      <td>0.051975</td>\n",
       "      <td>3067.0</td>\n",
       "    </tr>\n",
       "    <tr>\n",
       "      <th>1</th>\n",
       "      <td>Abbotsford</td>\n",
       "      <td>85 Turner St</td>\n",
       "      <td>2</td>\n",
       "      <td>0</td>\n",
       "      <td>0.125506</td>\n",
       "      <td>0</td>\n",
       "      <td>Biggin</td>\n",
       "      <td>3/12/2016</td>\n",
       "      <td>0.051975</td>\n",
       "      <td>3067.0</td>\n",
       "    </tr>\n",
       "    <tr>\n",
       "      <th>2</th>\n",
       "      <td>Abbotsford</td>\n",
       "      <td>25 Bloomburg St</td>\n",
       "      <td>2</td>\n",
       "      <td>0</td>\n",
       "      <td>0.085470</td>\n",
       "      <td>0</td>\n",
       "      <td>Biggin</td>\n",
       "      <td>4/02/2016</td>\n",
       "      <td>0.051975</td>\n",
       "      <td>3067.0</td>\n",
       "    </tr>\n",
       "    <tr>\n",
       "      <th>3</th>\n",
       "      <td>Abbotsford</td>\n",
       "      <td>18/659 Victoria St</td>\n",
       "      <td>3</td>\n",
       "      <td>1</td>\n",
       "      <td>0.086835</td>\n",
       "      <td>3</td>\n",
       "      <td>Rounds</td>\n",
       "      <td>4/02/2016</td>\n",
       "      <td>0.051975</td>\n",
       "      <td>3067.0</td>\n",
       "    </tr>\n",
       "    <tr>\n",
       "      <th>4</th>\n",
       "      <td>Abbotsford</td>\n",
       "      <td>5 Charles St</td>\n",
       "      <td>3</td>\n",
       "      <td>0</td>\n",
       "      <td>0.124157</td>\n",
       "      <td>1</td>\n",
       "      <td>Biggin</td>\n",
       "      <td>4/03/2017</td>\n",
       "      <td>0.051975</td>\n",
       "      <td>3067.0</td>\n",
       "    </tr>\n",
       "  </tbody>\n",
       "</table>\n",
       "</div>"
      ],
      "text/plain": [
       "       Suburb             Address  Rooms Type     Price Method SellerG  \\\n",
       "0  Abbotsford       68 Studley St      2    0  0.086835      8  Jellis   \n",
       "1  Abbotsford        85 Turner St      2    0  0.125506      0  Biggin   \n",
       "2  Abbotsford     25 Bloomburg St      2    0  0.085470      0  Biggin   \n",
       "3  Abbotsford  18/659 Victoria St      3    1  0.086835      3  Rounds   \n",
       "4  Abbotsford        5 Charles St      3    0  0.124157      1  Biggin   \n",
       "\n",
       "        Date  Distance Postcode  \n",
       "0  3/09/2016  0.051975   3067.0  \n",
       "1  3/12/2016  0.051975   3067.0  \n",
       "2  4/02/2016  0.051975   3067.0  \n",
       "3  4/02/2016  0.051975   3067.0  \n",
       "4  4/03/2017  0.051975   3067.0  "
      ]
     },
     "execution_count": 26,
     "metadata": {},
     "output_type": "execute_result"
    }
   ],
   "source": [
    "data.head()"
   ]
  },
  {
   "cell_type": "code",
   "execution_count": 27,
   "id": "dfb6f0e2",
   "metadata": {},
   "outputs": [
    {
     "data": {
      "text/plain": [
       "0    19744\n",
       "1     5094\n",
       "2     4850\n",
       "3     3108\n",
       "5     1317\n",
       "6      308\n",
       "4      226\n",
       "7      173\n",
       "8       36\n",
       "Name: Method, dtype: int64"
      ]
     },
     "execution_count": 27,
     "metadata": {},
     "output_type": "execute_result"
    }
   ],
   "source": [
    "data.Method.value_counts()"
   ]
  },
  {
   "cell_type": "code",
   "execution_count": 28,
   "id": "48de6c46",
   "metadata": {},
   "outputs": [
    {
     "data": {
      "text/plain": [
       "0    23979\n",
       "1     7297\n",
       "2     3580\n",
       "Name: Type, dtype: int64"
      ]
     },
     "execution_count": 28,
     "metadata": {},
     "output_type": "execute_result"
    }
   ],
   "source": [
    "data.Type.value_counts()"
   ]
  },
  {
   "cell_type": "markdown",
   "id": "f11918c0",
   "metadata": {},
   "source": [
    "#### Converting the numbers into int type "
   ]
  },
  {
   "cell_type": "code",
   "execution_count": 29,
   "id": "2ebb0e86",
   "metadata": {},
   "outputs": [],
   "source": [
    "data.Type = data.Type.astype(int)"
   ]
  },
  {
   "cell_type": "code",
   "execution_count": 30,
   "id": "f791459b",
   "metadata": {},
   "outputs": [],
   "source": [
    "data.Method = data.Method.astype(int)"
   ]
  },
  {
   "cell_type": "code",
   "execution_count": 31,
   "id": "25f32029",
   "metadata": {},
   "outputs": [
    {
     "data": {
      "text/plain": [
       "Suburb       object\n",
       "Address      object\n",
       "Rooms         int64\n",
       "Type          int32\n",
       "Price       float64\n",
       "Method        int32\n",
       "SellerG      object\n",
       "Date         object\n",
       "Distance    float64\n",
       "Postcode     object\n",
       "dtype: object"
      ]
     },
     "execution_count": 31,
     "metadata": {},
     "output_type": "execute_result"
    }
   ],
   "source": [
    "data.dtypes"
   ]
  },
  {
   "cell_type": "code",
   "execution_count": null,
   "id": "e4002deb",
   "metadata": {},
   "outputs": [],
   "source": []
  }
 ],
 "metadata": {
  "kernelspec": {
   "display_name": "Python 3 (ipykernel)",
   "language": "python",
   "name": "python3"
  },
  "language_info": {
   "codemirror_mode": {
    "name": "ipython",
    "version": 3
   },
   "file_extension": ".py",
   "mimetype": "text/x-python",
   "name": "python",
   "nbconvert_exporter": "python",
   "pygments_lexer": "ipython3",
   "version": "3.8.5"
  }
 },
 "nbformat": 4,
 "nbformat_minor": 5
}
