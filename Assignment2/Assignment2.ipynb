{
 "cells": [
  {
   "cell_type": "markdown",
   "id": "d8c04b8c",
   "metadata": {},
   "source": [
    "## DSBDAL Assignment 2\n",
    "\n",
    "## Data Wrangling, II"
   ]
  },
  {
   "cell_type": "markdown",
   "id": "e8a2b1b8",
   "metadata": {},
   "source": [
    "#### Importing required libraries"
   ]
  },
  {
   "cell_type": "code",
   "execution_count": 169,
   "id": "9ea01af9",
   "metadata": {},
   "outputs": [],
   "source": [
    "import pandas as pd\n",
    "import string\n",
    "from nltk.corpus import stopwords\n",
    "import warnings\n",
    "warnings.filterwarnings('ignore')\n",
    "from sklearn import preprocessing\n",
    "import matplotlib.pyplot as plt\n",
    "import seaborn as sns\n",
    "from scipy.stats import boxcox"
   ]
  },
  {
   "cell_type": "markdown",
   "id": "ec53f450",
   "metadata": {},
   "source": [
    "#### Loading the dataset into a dataframe "
   ]
  },
  {
   "cell_type": "code",
   "execution_count": 170,
   "id": "8892c4ab",
   "metadata": {},
   "outputs": [
    {
     "data": {
      "text/html": [
       "<div>\n",
       "<style scoped>\n",
       "    .dataframe tbody tr th:only-of-type {\n",
       "        vertical-align: middle;\n",
       "    }\n",
       "\n",
       "    .dataframe tbody tr th {\n",
       "        vertical-align: top;\n",
       "    }\n",
       "\n",
       "    .dataframe thead th {\n",
       "        text-align: right;\n",
       "    }\n",
       "</style>\n",
       "<table border=\"1\" class=\"dataframe\">\n",
       "  <thead>\n",
       "    <tr style=\"text-align: right;\">\n",
       "      <th></th>\n",
       "      <th>COD_S11</th>\n",
       "      <th>GENDER</th>\n",
       "      <th>EDU_FATHER</th>\n",
       "      <th>EDU_MOTHER</th>\n",
       "      <th>OCC_FATHER</th>\n",
       "      <th>OCC_MOTHER</th>\n",
       "      <th>STRATUM</th>\n",
       "      <th>SISBEN</th>\n",
       "      <th>PEOPLE_HOUSE</th>\n",
       "      <th>Unnamed: 9</th>\n",
       "      <th>...</th>\n",
       "      <th>CC_PRO</th>\n",
       "      <th>ENG_PRO</th>\n",
       "      <th>WC_PRO</th>\n",
       "      <th>FEP_PRO</th>\n",
       "      <th>G_SC</th>\n",
       "      <th>PERCENTILE</th>\n",
       "      <th>2ND_DECILE</th>\n",
       "      <th>QUARTILE</th>\n",
       "      <th>SEL</th>\n",
       "      <th>SEL_IHE</th>\n",
       "    </tr>\n",
       "  </thead>\n",
       "  <tbody>\n",
       "    <tr>\n",
       "      <th>0</th>\n",
       "      <td>SB11201210000129</td>\n",
       "      <td>F</td>\n",
       "      <td>Incomplete Professional Education</td>\n",
       "      <td>Complete technique or technology</td>\n",
       "      <td>Technical or professional level employee</td>\n",
       "      <td>Home</td>\n",
       "      <td>Stratum 4</td>\n",
       "      <td>It is not classified by the SISBEN</td>\n",
       "      <td>Three</td>\n",
       "      <td>NaN</td>\n",
       "      <td>...</td>\n",
       "      <td>71</td>\n",
       "      <td>93</td>\n",
       "      <td>79</td>\n",
       "      <td>181</td>\n",
       "      <td>180</td>\n",
       "      <td>91</td>\n",
       "      <td>5</td>\n",
       "      <td>4</td>\n",
       "      <td>2</td>\n",
       "      <td>2</td>\n",
       "    </tr>\n",
       "    <tr>\n",
       "      <th>1</th>\n",
       "      <td>SB11201210000137</td>\n",
       "      <td>F</td>\n",
       "      <td>Complete Secundary</td>\n",
       "      <td>Complete professional education</td>\n",
       "      <td>Entrepreneur</td>\n",
       "      <td>Independent professional</td>\n",
       "      <td>Stratum 5</td>\n",
       "      <td>It is not classified by the SISBEN</td>\n",
       "      <td>Three</td>\n",
       "      <td>NaN</td>\n",
       "      <td>...</td>\n",
       "      <td>86</td>\n",
       "      <td>98</td>\n",
       "      <td>78</td>\n",
       "      <td>201</td>\n",
       "      <td>182</td>\n",
       "      <td>92</td>\n",
       "      <td>5</td>\n",
       "      <td>4</td>\n",
       "      <td>4</td>\n",
       "      <td>4</td>\n",
       "    </tr>\n",
       "    <tr>\n",
       "      <th>2</th>\n",
       "      <td>SB11201210005154</td>\n",
       "      <td>M</td>\n",
       "      <td>Not sure</td>\n",
       "      <td>Not sure</td>\n",
       "      <td>Independent</td>\n",
       "      <td>Home</td>\n",
       "      <td>Stratum 2</td>\n",
       "      <td>Level 2</td>\n",
       "      <td>Five</td>\n",
       "      <td>NaN</td>\n",
       "      <td>...</td>\n",
       "      <td>18</td>\n",
       "      <td>43</td>\n",
       "      <td>22</td>\n",
       "      <td>113</td>\n",
       "      <td>113</td>\n",
       "      <td>7</td>\n",
       "      <td>1</td>\n",
       "      <td>1</td>\n",
       "      <td>1</td>\n",
       "      <td>1</td>\n",
       "    </tr>\n",
       "    <tr>\n",
       "      <th>3</th>\n",
       "      <td>SB11201210007504</td>\n",
       "      <td>F</td>\n",
       "      <td>Not sure</td>\n",
       "      <td>Not sure</td>\n",
       "      <td>Other occupation</td>\n",
       "      <td>Independent</td>\n",
       "      <td>Stratum 2</td>\n",
       "      <td>It is not classified by the SISBEN</td>\n",
       "      <td>Three</td>\n",
       "      <td>NaN</td>\n",
       "      <td>...</td>\n",
       "      <td>76</td>\n",
       "      <td>80</td>\n",
       "      <td>48</td>\n",
       "      <td>137</td>\n",
       "      <td>157</td>\n",
       "      <td>67</td>\n",
       "      <td>4</td>\n",
       "      <td>3</td>\n",
       "      <td>2</td>\n",
       "      <td>2</td>\n",
       "    </tr>\n",
       "    <tr>\n",
       "      <th>4</th>\n",
       "      <td>SB11201210007548</td>\n",
       "      <td>M</td>\n",
       "      <td>Complete professional education</td>\n",
       "      <td>Complete professional education</td>\n",
       "      <td>Executive</td>\n",
       "      <td>Home</td>\n",
       "      <td>Stratum 4</td>\n",
       "      <td>It is not classified by the SISBEN</td>\n",
       "      <td>One</td>\n",
       "      <td>NaN</td>\n",
       "      <td>...</td>\n",
       "      <td>98</td>\n",
       "      <td>100</td>\n",
       "      <td>71</td>\n",
       "      <td>189</td>\n",
       "      <td>198</td>\n",
       "      <td>98</td>\n",
       "      <td>5</td>\n",
       "      <td>4</td>\n",
       "      <td>4</td>\n",
       "      <td>2</td>\n",
       "    </tr>\n",
       "  </tbody>\n",
       "</table>\n",
       "<p>5 rows × 45 columns</p>\n",
       "</div>"
      ],
      "text/plain": [
       "            COD_S11 GENDER                         EDU_FATHER  \\\n",
       "0  SB11201210000129      F  Incomplete Professional Education   \n",
       "1  SB11201210000137      F                 Complete Secundary   \n",
       "2  SB11201210005154      M                           Not sure   \n",
       "3  SB11201210007504      F                           Not sure   \n",
       "4  SB11201210007548      M    Complete professional education   \n",
       "\n",
       "                         EDU_MOTHER                                OCC_FATHER  \\\n",
       "0  Complete technique or technology  Technical or professional level employee   \n",
       "1   Complete professional education                             Entrepreneur    \n",
       "2                          Not sure                               Independent   \n",
       "3                          Not sure                          Other occupation   \n",
       "4   Complete professional education                                 Executive   \n",
       "\n",
       "                 OCC_MOTHER    STRATUM                              SISBEN  \\\n",
       "0                      Home  Stratum 4  It is not classified by the SISBEN   \n",
       "1  Independent professional  Stratum 5  It is not classified by the SISBEN   \n",
       "2                      Home  Stratum 2                             Level 2   \n",
       "3               Independent  Stratum 2  It is not classified by the SISBEN   \n",
       "4                      Home  Stratum 4  It is not classified by the SISBEN   \n",
       "\n",
       "  PEOPLE_HOUSE  Unnamed: 9  ... CC_PRO ENG_PRO WC_PRO FEP_PRO G_SC PERCENTILE  \\\n",
       "0        Three         NaN  ...     71      93     79     181  180         91   \n",
       "1        Three         NaN  ...     86      98     78     201  182         92   \n",
       "2         Five         NaN  ...     18      43     22     113  113          7   \n",
       "3        Three         NaN  ...     76      80     48     137  157         67   \n",
       "4          One         NaN  ...     98     100     71     189  198         98   \n",
       "\n",
       "  2ND_DECILE QUARTILE SEL SEL_IHE  \n",
       "0          5        4   2       2  \n",
       "1          5        4   4       4  \n",
       "2          1        1   1       1  \n",
       "3          4        3   2       2  \n",
       "4          5        4   4       2  \n",
       "\n",
       "[5 rows x 45 columns]"
      ]
     },
     "execution_count": 170,
     "metadata": {},
     "output_type": "execute_result"
    }
   ],
   "source": [
    "data = pd.read_excel('data_academic_performance.xlsx')\n",
    "data.head()\n",
    "# Dataset - https://data.mendeley.com/datasets/83tcx8psxv/1\n",
    "# Information about data - https://www.sciencedirect.com/science/article/pii/S2352340920304315"
   ]
  },
  {
   "cell_type": "code",
   "execution_count": 171,
   "id": "a9cde4f5",
   "metadata": {},
   "outputs": [],
   "source": [
    "data.drop(data.iloc[:,28:44],inplace=True, axis=1)\n",
    "data.drop(data.iloc[:,10:25],inplace=True, axis=1)"
   ]
  },
  {
   "cell_type": "code",
   "execution_count": 172,
   "id": "6f376891",
   "metadata": {},
   "outputs": [
    {
     "data": {
      "text/html": [
       "<div>\n",
       "<style scoped>\n",
       "    .dataframe tbody tr th:only-of-type {\n",
       "        vertical-align: middle;\n",
       "    }\n",
       "\n",
       "    .dataframe tbody tr th {\n",
       "        vertical-align: top;\n",
       "    }\n",
       "\n",
       "    .dataframe thead th {\n",
       "        text-align: right;\n",
       "    }\n",
       "</style>\n",
       "<table border=\"1\" class=\"dataframe\">\n",
       "  <thead>\n",
       "    <tr style=\"text-align: right;\">\n",
       "      <th></th>\n",
       "      <th>COD_S11</th>\n",
       "      <th>GENDER</th>\n",
       "      <th>EDU_FATHER</th>\n",
       "      <th>EDU_MOTHER</th>\n",
       "      <th>OCC_FATHER</th>\n",
       "      <th>OCC_MOTHER</th>\n",
       "      <th>STRATUM</th>\n",
       "      <th>SISBEN</th>\n",
       "      <th>PEOPLE_HOUSE</th>\n",
       "      <th>Unnamed: 9</th>\n",
       "      <th>MAT_S11</th>\n",
       "      <th>CR_S11</th>\n",
       "      <th>CC_S11</th>\n",
       "      <th>SEL_IHE</th>\n",
       "    </tr>\n",
       "  </thead>\n",
       "  <tbody>\n",
       "    <tr>\n",
       "      <th>0</th>\n",
       "      <td>SB11201210000129</td>\n",
       "      <td>F</td>\n",
       "      <td>Incomplete Professional Education</td>\n",
       "      <td>Complete technique or technology</td>\n",
       "      <td>Technical or professional level employee</td>\n",
       "      <td>Home</td>\n",
       "      <td>Stratum 4</td>\n",
       "      <td>It is not classified by the SISBEN</td>\n",
       "      <td>Three</td>\n",
       "      <td>NaN</td>\n",
       "      <td>71</td>\n",
       "      <td>81</td>\n",
       "      <td>61</td>\n",
       "      <td>2</td>\n",
       "    </tr>\n",
       "    <tr>\n",
       "      <th>1</th>\n",
       "      <td>SB11201210000137</td>\n",
       "      <td>F</td>\n",
       "      <td>Complete Secundary</td>\n",
       "      <td>Complete professional education</td>\n",
       "      <td>Entrepreneur</td>\n",
       "      <td>Independent professional</td>\n",
       "      <td>Stratum 5</td>\n",
       "      <td>It is not classified by the SISBEN</td>\n",
       "      <td>Three</td>\n",
       "      <td>NaN</td>\n",
       "      <td>83</td>\n",
       "      <td>75</td>\n",
       "      <td>66</td>\n",
       "      <td>4</td>\n",
       "    </tr>\n",
       "    <tr>\n",
       "      <th>2</th>\n",
       "      <td>SB11201210005154</td>\n",
       "      <td>M</td>\n",
       "      <td>Not sure</td>\n",
       "      <td>Not sure</td>\n",
       "      <td>Independent</td>\n",
       "      <td>Home</td>\n",
       "      <td>Stratum 2</td>\n",
       "      <td>Level 2</td>\n",
       "      <td>Five</td>\n",
       "      <td>NaN</td>\n",
       "      <td>52</td>\n",
       "      <td>49</td>\n",
       "      <td>38</td>\n",
       "      <td>1</td>\n",
       "    </tr>\n",
       "    <tr>\n",
       "      <th>3</th>\n",
       "      <td>SB11201210007504</td>\n",
       "      <td>F</td>\n",
       "      <td>Not sure</td>\n",
       "      <td>Not sure</td>\n",
       "      <td>Other occupation</td>\n",
       "      <td>Independent</td>\n",
       "      <td>Stratum 2</td>\n",
       "      <td>It is not classified by the SISBEN</td>\n",
       "      <td>Three</td>\n",
       "      <td>NaN</td>\n",
       "      <td>56</td>\n",
       "      <td>55</td>\n",
       "      <td>51</td>\n",
       "      <td>2</td>\n",
       "    </tr>\n",
       "    <tr>\n",
       "      <th>4</th>\n",
       "      <td>SB11201210007548</td>\n",
       "      <td>M</td>\n",
       "      <td>Complete professional education</td>\n",
       "      <td>Complete professional education</td>\n",
       "      <td>Executive</td>\n",
       "      <td>Home</td>\n",
       "      <td>Stratum 4</td>\n",
       "      <td>It is not classified by the SISBEN</td>\n",
       "      <td>One</td>\n",
       "      <td>NaN</td>\n",
       "      <td>80</td>\n",
       "      <td>65</td>\n",
       "      <td>76</td>\n",
       "      <td>2</td>\n",
       "    </tr>\n",
       "  </tbody>\n",
       "</table>\n",
       "</div>"
      ],
      "text/plain": [
       "            COD_S11 GENDER                         EDU_FATHER  \\\n",
       "0  SB11201210000129      F  Incomplete Professional Education   \n",
       "1  SB11201210000137      F                 Complete Secundary   \n",
       "2  SB11201210005154      M                           Not sure   \n",
       "3  SB11201210007504      F                           Not sure   \n",
       "4  SB11201210007548      M    Complete professional education   \n",
       "\n",
       "                         EDU_MOTHER                                OCC_FATHER  \\\n",
       "0  Complete technique or technology  Technical or professional level employee   \n",
       "1   Complete professional education                             Entrepreneur    \n",
       "2                          Not sure                               Independent   \n",
       "3                          Not sure                          Other occupation   \n",
       "4   Complete professional education                                 Executive   \n",
       "\n",
       "                 OCC_MOTHER    STRATUM                              SISBEN  \\\n",
       "0                      Home  Stratum 4  It is not classified by the SISBEN   \n",
       "1  Independent professional  Stratum 5  It is not classified by the SISBEN   \n",
       "2                      Home  Stratum 2                             Level 2   \n",
       "3               Independent  Stratum 2  It is not classified by the SISBEN   \n",
       "4                      Home  Stratum 4  It is not classified by the SISBEN   \n",
       "\n",
       "  PEOPLE_HOUSE  Unnamed: 9  MAT_S11  CR_S11  CC_S11  SEL_IHE  \n",
       "0        Three         NaN       71      81      61        2  \n",
       "1        Three         NaN       83      75      66        4  \n",
       "2         Five         NaN       52      49      38        1  \n",
       "3        Three         NaN       56      55      51        2  \n",
       "4          One         NaN       80      65      76        2  "
      ]
     },
     "execution_count": 172,
     "metadata": {},
     "output_type": "execute_result"
    }
   ],
   "source": [
    "data.head()"
   ]
  },
  {
   "cell_type": "code",
   "execution_count": 173,
   "id": "5b657478",
   "metadata": {},
   "outputs": [
    {
     "data": {
      "text/plain": [
       "(12411, 14)"
      ]
     },
     "execution_count": 173,
     "metadata": {},
     "output_type": "execute_result"
    }
   ],
   "source": [
    "data.shape"
   ]
  },
  {
   "cell_type": "code",
   "execution_count": 174,
   "id": "a21eaa9f",
   "metadata": {},
   "outputs": [
    {
     "data": {
      "text/plain": [
       "COD_S11          object\n",
       "GENDER           object\n",
       "EDU_FATHER       object\n",
       "EDU_MOTHER       object\n",
       "OCC_FATHER       object\n",
       "OCC_MOTHER       object\n",
       "STRATUM          object\n",
       "SISBEN           object\n",
       "PEOPLE_HOUSE     object\n",
       "Unnamed: 9      float64\n",
       "MAT_S11           int64\n",
       "CR_S11            int64\n",
       "CC_S11            int64\n",
       "SEL_IHE           int64\n",
       "dtype: object"
      ]
     },
     "execution_count": 174,
     "metadata": {},
     "output_type": "execute_result"
    }
   ],
   "source": [
    "data.dtypes"
   ]
  },
  {
   "cell_type": "markdown",
   "id": "f325c088",
   "metadata": {},
   "source": [
    "### Step 1 - Scanning for missing values and inconsistencies"
   ]
  },
  {
   "cell_type": "code",
   "execution_count": 175,
   "id": "2938352b",
   "metadata": {},
   "outputs": [
    {
     "data": {
      "text/html": [
       "<div>\n",
       "<style scoped>\n",
       "    .dataframe tbody tr th:only-of-type {\n",
       "        vertical-align: middle;\n",
       "    }\n",
       "\n",
       "    .dataframe tbody tr th {\n",
       "        vertical-align: top;\n",
       "    }\n",
       "\n",
       "    .dataframe thead th {\n",
       "        text-align: right;\n",
       "    }\n",
       "</style>\n",
       "<table border=\"1\" class=\"dataframe\">\n",
       "  <thead>\n",
       "    <tr style=\"text-align: right;\">\n",
       "      <th></th>\n",
       "      <th>COD_S11</th>\n",
       "      <th>GENDER</th>\n",
       "      <th>EDU_FATHER</th>\n",
       "      <th>EDU_MOTHER</th>\n",
       "      <th>OCC_FATHER</th>\n",
       "      <th>OCC_MOTHER</th>\n",
       "      <th>STRATUM</th>\n",
       "      <th>SISBEN</th>\n",
       "      <th>PEOPLE_HOUSE</th>\n",
       "      <th>MAT_S11</th>\n",
       "      <th>CR_S11</th>\n",
       "      <th>CC_S11</th>\n",
       "      <th>SEL_IHE</th>\n",
       "    </tr>\n",
       "  </thead>\n",
       "  <tbody>\n",
       "    <tr>\n",
       "      <th>0</th>\n",
       "      <td>SB11201210000129</td>\n",
       "      <td>F</td>\n",
       "      <td>Incomplete Professional Education</td>\n",
       "      <td>Complete technique or technology</td>\n",
       "      <td>Technical or professional level employee</td>\n",
       "      <td>Home</td>\n",
       "      <td>Stratum 4</td>\n",
       "      <td>It is not classified by the SISBEN</td>\n",
       "      <td>Three</td>\n",
       "      <td>71</td>\n",
       "      <td>81</td>\n",
       "      <td>61</td>\n",
       "      <td>2</td>\n",
       "    </tr>\n",
       "    <tr>\n",
       "      <th>1</th>\n",
       "      <td>SB11201210000137</td>\n",
       "      <td>F</td>\n",
       "      <td>Complete Secundary</td>\n",
       "      <td>Complete professional education</td>\n",
       "      <td>Entrepreneur</td>\n",
       "      <td>Independent professional</td>\n",
       "      <td>Stratum 5</td>\n",
       "      <td>It is not classified by the SISBEN</td>\n",
       "      <td>Three</td>\n",
       "      <td>83</td>\n",
       "      <td>75</td>\n",
       "      <td>66</td>\n",
       "      <td>4</td>\n",
       "    </tr>\n",
       "    <tr>\n",
       "      <th>2</th>\n",
       "      <td>SB11201210005154</td>\n",
       "      <td>M</td>\n",
       "      <td>Not sure</td>\n",
       "      <td>Not sure</td>\n",
       "      <td>Independent</td>\n",
       "      <td>Home</td>\n",
       "      <td>Stratum 2</td>\n",
       "      <td>Level 2</td>\n",
       "      <td>Five</td>\n",
       "      <td>52</td>\n",
       "      <td>49</td>\n",
       "      <td>38</td>\n",
       "      <td>1</td>\n",
       "    </tr>\n",
       "    <tr>\n",
       "      <th>3</th>\n",
       "      <td>SB11201210007504</td>\n",
       "      <td>F</td>\n",
       "      <td>Not sure</td>\n",
       "      <td>Not sure</td>\n",
       "      <td>Other occupation</td>\n",
       "      <td>Independent</td>\n",
       "      <td>Stratum 2</td>\n",
       "      <td>It is not classified by the SISBEN</td>\n",
       "      <td>Three</td>\n",
       "      <td>56</td>\n",
       "      <td>55</td>\n",
       "      <td>51</td>\n",
       "      <td>2</td>\n",
       "    </tr>\n",
       "    <tr>\n",
       "      <th>4</th>\n",
       "      <td>SB11201210007548</td>\n",
       "      <td>M</td>\n",
       "      <td>Complete professional education</td>\n",
       "      <td>Complete professional education</td>\n",
       "      <td>Executive</td>\n",
       "      <td>Home</td>\n",
       "      <td>Stratum 4</td>\n",
       "      <td>It is not classified by the SISBEN</td>\n",
       "      <td>One</td>\n",
       "      <td>80</td>\n",
       "      <td>65</td>\n",
       "      <td>76</td>\n",
       "      <td>2</td>\n",
       "    </tr>\n",
       "  </tbody>\n",
       "</table>\n",
       "</div>"
      ],
      "text/plain": [
       "            COD_S11 GENDER                         EDU_FATHER  \\\n",
       "0  SB11201210000129      F  Incomplete Professional Education   \n",
       "1  SB11201210000137      F                 Complete Secundary   \n",
       "2  SB11201210005154      M                           Not sure   \n",
       "3  SB11201210007504      F                           Not sure   \n",
       "4  SB11201210007548      M    Complete professional education   \n",
       "\n",
       "                         EDU_MOTHER                                OCC_FATHER  \\\n",
       "0  Complete technique or technology  Technical or professional level employee   \n",
       "1   Complete professional education                             Entrepreneur    \n",
       "2                          Not sure                               Independent   \n",
       "3                          Not sure                          Other occupation   \n",
       "4   Complete professional education                                 Executive   \n",
       "\n",
       "                 OCC_MOTHER    STRATUM                              SISBEN  \\\n",
       "0                      Home  Stratum 4  It is not classified by the SISBEN   \n",
       "1  Independent professional  Stratum 5  It is not classified by the SISBEN   \n",
       "2                      Home  Stratum 2                             Level 2   \n",
       "3               Independent  Stratum 2  It is not classified by the SISBEN   \n",
       "4                      Home  Stratum 4  It is not classified by the SISBEN   \n",
       "\n",
       "  PEOPLE_HOUSE  MAT_S11  CR_S11  CC_S11  SEL_IHE  \n",
       "0        Three       71      81      61        2  \n",
       "1        Three       83      75      66        4  \n",
       "2         Five       52      49      38        1  \n",
       "3        Three       56      55      51        2  \n",
       "4          One       80      65      76        2  "
      ]
     },
     "execution_count": 175,
     "metadata": {},
     "output_type": "execute_result"
    }
   ],
   "source": [
    "# Unnamed:9 has no data in it, inconsistency in dataset\n",
    "# Drop the column\n",
    "\n",
    "data.drop('Unnamed: 9',inplace=True, axis=1)\n",
    "data.head()"
   ]
  },
  {
   "cell_type": "code",
   "execution_count": 176,
   "id": "1d1d1b93",
   "metadata": {},
   "outputs": [
    {
     "data": {
      "text/plain": [
       "COD_S11         0\n",
       "GENDER          0\n",
       "EDU_FATHER      0\n",
       "EDU_MOTHER      0\n",
       "OCC_FATHER      0\n",
       "OCC_MOTHER      0\n",
       "STRATUM         0\n",
       "SISBEN          0\n",
       "PEOPLE_HOUSE    0\n",
       "MAT_S11         0\n",
       "CR_S11          0\n",
       "CC_S11          0\n",
       "SEL_IHE         0\n",
       "dtype: int64"
      ]
     },
     "execution_count": 176,
     "metadata": {},
     "output_type": "execute_result"
    }
   ],
   "source": [
    "missing_values_count = data.isnull().sum() ## summing up the null value counts for all columns \n",
    "missing_values_count[0:13]\n",
    "\n",
    "## There are no missing values at first glance"
   ]
  },
  {
   "cell_type": "code",
   "execution_count": 177,
   "id": "0df7392e",
   "metadata": {},
   "outputs": [
    {
     "name": "stdout",
     "output_type": "stream",
     "text": [
      "GENDER\n",
      "M    7368\n",
      "F    5043\n",
      "Name: GENDER, dtype: int64\n",
      "\n",
      "EDU_FATHER\n",
      "Complete professional education          3016\n",
      "Complete Secundary                       2843\n",
      "Complete technique or technology         1194\n",
      "Incomplete Secundary                     1091\n",
      "Postgraduate education                   1085\n",
      "Complete primary                          824\n",
      "Incomplete primary                        735\n",
      "Incomplete Professional Education         425\n",
      "Not sure                                  407\n",
      "0                                         391\n",
      "Incomplete technical or technological     277\n",
      "Ninguno                                   123\n",
      "Name: EDU_FATHER, dtype: int64\n",
      "\n",
      "EDU_MOTHER\n",
      "Complete Secundary                       3106\n",
      "Complete professional education          3059\n",
      "Complete technique or technology         1495\n",
      "Incomplete Secundary                     1056\n",
      "Postgraduate education                    997\n",
      "Complete primary                          713\n",
      "Incomplete primary                        541\n",
      "Incomplete Professional Education         502\n",
      "0                                         388\n",
      "Incomplete technical or technological     341\n",
      "Not sure                                  179\n",
      "Ninguno                                    34\n",
      "Name: EDU_MOTHER, dtype: int64\n",
      "\n",
      "OCC_FATHER\n",
      "Independent                                 2907\n",
      "Technical or professional level employee    1803\n",
      "Operator                                    1537\n",
      "Other occupation                            1087\n",
      "Executive                                   1077\n",
      "0                                            940\n",
      "Independent professional                     915\n",
      "Small entrepreneur                           692\n",
      "Retired                                      532\n",
      "Entrepreneur                                 472\n",
      "Auxiliary or Administrative                  372\n",
      "Home                                          77\n",
      "Name: OCC_FATHER, dtype: int64\n",
      "\n",
      "OCC_MOTHER\n",
      "Home                                        4658\n",
      "Technical or professional level employee    1795\n",
      "Independent                                 1107\n",
      "Auxiliary or Administrative                  846\n",
      "Executive                                    794\n",
      "Independent professional                     715\n",
      "Operator                                     684\n",
      "Other occupation                             607\n",
      "Small entrepreneur                           492\n",
      "0                                            313\n",
      "Entrepreneur                                 242\n",
      "Retired                                      158\n",
      "Name: OCC_MOTHER, dtype: int64\n",
      "\n",
      "STRATUM\n",
      "Stratum 3    4045\n",
      "Stratum 2    4029\n",
      "Stratum 1    1709\n",
      "Stratum 4    1578\n",
      "Stratum 5     633\n",
      "Stratum 6     403\n",
      "0              14\n",
      "Name: STRATUM, dtype: int64\n",
      "\n",
      "SISBEN\n",
      "It is not classified by the SISBEN           7534\n",
      "Level 2                                      2120\n",
      "Level 1                                      2057\n",
      "Level 3                                       583\n",
      "Esta clasificada en otro Level del SISBEN      96\n",
      "0                                              21\n",
      "Name: SISBEN, dtype: int64\n",
      "\n",
      "PEOPLE_HOUSE\n",
      "Four              4767\n",
      "Five              2870\n",
      "Three             2345\n",
      "Six               1090\n",
      "Two                592\n",
      "Seven              372\n",
      "Eight              164\n",
      "Nueve               74\n",
      "Ten                 52\n",
      "Twelve or more      32\n",
      "0                   21\n",
      "Once                19\n",
      "One                 13\n",
      "Name: PEOPLE_HOUSE, dtype: int64\n",
      "\n",
      "MAT_S11\n",
      "64    480\n",
      "60    479\n",
      "62    453\n",
      "58    450\n",
      "65    448\n",
      "     ... \n",
      "38      9\n",
      "37      5\n",
      "31      5\n",
      "98      3\n",
      "26      1\n",
      "Name: MAT_S11, Length: 69, dtype: int64\n",
      "\n",
      "CR_S11\n",
      "64    816\n",
      "62    736\n",
      "60    553\n",
      "57    544\n",
      "56    521\n",
      "     ... \n",
      "90      2\n",
      "27      2\n",
      "30      1\n",
      "26      1\n",
      "24      1\n",
      "Name: CR_S11, Length: 71, dtype: int64\n",
      "\n",
      "CC_S11\n",
      "62    946\n",
      "60    742\n",
      "58    685\n",
      "67    619\n",
      "64    607\n",
      "     ... \n",
      "86      2\n",
      "26      2\n",
      "84      2\n",
      "85      1\n",
      "0       1\n",
      "Name: CC_S11, Length: 68, dtype: int64\n",
      "\n",
      "SEL_IHE\n",
      "2    7748\n",
      "4    2692\n",
      "1    1137\n",
      "3     834\n",
      "Name: SEL_IHE, dtype: int64\n",
      "\n"
     ]
    }
   ],
   "source": [
    "for i in data.iloc[:,1:13]:\n",
    "    print(i)\n",
    "    print(data[i].value_counts())\n",
    "    print()\n",
    "    \n",
    "## EDU_FATHER, EDU_MOTHER have a \"Not sure\" entry\n",
    "## Stratum, SISBEN, PEOPLE_HOUSE,OCC_FATHER, OCC_MOTHER have a \"0\" entry"
   ]
  },
  {
   "cell_type": "code",
   "execution_count": 178,
   "id": "1ce6c64c",
   "metadata": {},
   "outputs": [],
   "source": [
    "## Changed 0 occupation to unemployed\n",
    "data.OCC_FATHER = data.OCC_FATHER.astype(str)\n",
    "data.OCC_MOTHER = data.OCC_MOTHER.astype(str)\n",
    "data.OCC_FATHER.replace(\"0\",\"Home\",inplace=True)\n",
    "data.OCC_MOTHER.replace(\"0\",\"Home\",inplace=True)\n",
    "\n",
    "## Changed \"not sure\" entries with the most common educational qualification \n",
    "data.EDU_FATHER = data.EDU_FATHER.astype(str)\n",
    "data.EDU_MOTHER = data.EDU_MOTHER.astype(str)\n",
    "data.EDU_FATHER.replace(\"Not sure\",\"Complete professional education\",inplace=True)\n",
    "data.EDU_MOTHER.replace(\"Not sure\",\"Complete Secundary\",inplace=True)\n",
    "data.EDU_FATHER.replace(\"0\",\"Zero\",inplace=True)\n",
    "data.EDU_MOTHER.replace(\"0\",\"Zero\",inplace=True)\n",
    "data.EDU_FATHER.replace(\"Ninguno\",\"Zero\",inplace=True)\n",
    "data.EDU_MOTHER.replace(\"Ninguno\",\"Zero\",inplace=True)\n",
    "                               \n",
    "\n",
    "## Fixed spelling issue \n",
    "data.EDU_FATHER.replace(\"Complete Secundary\",\"Complete Secondary\",inplace=True)\n",
    "data.EDU_FATHER.replace(\"Incomplete Secundary\",\"Incomplete Secondary\",inplace=True)\n",
    "data.EDU_MOTHER.replace(\"Complete Secundary\",\"Complete Secondary\",inplace=True)\n",
    "data.EDU_MOTHER.replace(\"Incomplete Secundary\",\"Incomplete Secondary\",inplace=True)"
   ]
  },
  {
   "cell_type": "code",
   "execution_count": 179,
   "id": "fcf0297a",
   "metadata": {},
   "outputs": [],
   "source": [
    "## Replacing SISBEN missing values with the most common classification \n",
    "data.SISBEN = data.SISBEN.astype(str)\n",
    "data.SISBEN.replace(\"Esta clasificada en otro Level del SISBEN\",\"Level 2\",inplace=True)\n",
    "data.SISBEN.replace(\"It is not classified by the SISBEN\",\"Level 2\",inplace=True)\n",
    "data.SISBEN.replace(\"0\",\"Level 2\",inplace=True)\n",
    "\n",
    "## Replacing stratum with the most common stratum\n",
    "data.STRATUM = data.STRATUM.astype(str)\n",
    "data.STRATUM.replace(\"0\",\"Stratum 3\",inplace = True)\n",
    "\n",
    "## Fixing PEOPLE_HOUSE\n",
    "data.PEOPLE_HOUSE = data.PEOPLE_HOUSE.astype(str)\n",
    "data.PEOPLE_HOUSE.replace(\"Nueve\",\"9\",inplace = True)\n",
    "data.PEOPLE_HOUSE.replace(\"Once\",\"1\",inplace = True)\n",
    "data.PEOPLE_HOUSE.replace(\"Twelve or more\",\"12\",inplace = True)\n",
    "data.PEOPLE_HOUSE.replace(\"One\",\"1\",inplace = True)\n",
    "data.PEOPLE_HOUSE.replace(\"Two\",\"2\",inplace = True)\n",
    "data.PEOPLE_HOUSE.replace(\"Three\",\"3\",inplace = True)\n",
    "data.PEOPLE_HOUSE.replace(\"Four\",\"4\",inplace = True)\n",
    "data.PEOPLE_HOUSE.replace(\"Five\",\"5\",inplace = True)\n",
    "data.PEOPLE_HOUSE.replace(\"Six\",\"6\",inplace = True)\n",
    "data.PEOPLE_HOUSE.replace(\"Seven\",\"7\",inplace = True)\n",
    "data.PEOPLE_HOUSE.replace(\"Eight\",\"8\",inplace = True)\n",
    "data.PEOPLE_HOUSE.replace(\"Ten\",\"10\",inplace = True)\n",
    "data.PEOPLE_HOUSE.replace(\"Eleven\",\"11\",inplace = True)\n",
    "data.PEOPLE_HOUSE.replace(\"0\",\"4\",inplace = True)\n",
    "data.PEOPLE_HOUSE = data.PEOPLE_HOUSE.astype(int)"
   ]
  },
  {
   "cell_type": "code",
   "execution_count": 180,
   "id": "fa68f64c",
   "metadata": {},
   "outputs": [
    {
     "name": "stdout",
     "output_type": "stream",
     "text": [
      "GENDER\n",
      "M    7368\n",
      "F    5043\n",
      "Name: GENDER, dtype: int64\n",
      "\n",
      "EDU_FATHER\n",
      "Complete professional education          3423\n",
      "Complete Secondary                       2843\n",
      "Complete technique or technology         1194\n",
      "Incomplete Secondary                     1091\n",
      "Postgraduate education                   1085\n",
      "Complete primary                          824\n",
      "Incomplete primary                        735\n",
      "Zero                                      514\n",
      "Incomplete Professional Education         425\n",
      "Incomplete technical or technological     277\n",
      "Name: EDU_FATHER, dtype: int64\n",
      "\n",
      "EDU_MOTHER\n",
      "Complete Secondary                       3285\n",
      "Complete professional education          3059\n",
      "Complete technique or technology         1495\n",
      "Incomplete Secondary                     1056\n",
      "Postgraduate education                    997\n",
      "Complete primary                          713\n",
      "Incomplete primary                        541\n",
      "Incomplete Professional Education         502\n",
      "Zero                                      422\n",
      "Incomplete technical or technological     341\n",
      "Name: EDU_MOTHER, dtype: int64\n",
      "\n",
      "OCC_FATHER\n",
      "Independent                                 2907\n",
      "Technical or professional level employee    1803\n",
      "Operator                                    1537\n",
      "Other occupation                            1087\n",
      "Executive                                   1077\n",
      "Home                                        1017\n",
      "Independent professional                     915\n",
      "Small entrepreneur                           692\n",
      "Retired                                      532\n",
      "Entrepreneur                                 472\n",
      "Auxiliary or Administrative                  372\n",
      "Name: OCC_FATHER, dtype: int64\n",
      "\n",
      "OCC_MOTHER\n",
      "Home                                        4971\n",
      "Technical or professional level employee    1795\n",
      "Independent                                 1107\n",
      "Auxiliary or Administrative                  846\n",
      "Executive                                    794\n",
      "Independent professional                     715\n",
      "Operator                                     684\n",
      "Other occupation                             607\n",
      "Small entrepreneur                           492\n",
      "Entrepreneur                                 242\n",
      "Retired                                      158\n",
      "Name: OCC_MOTHER, dtype: int64\n",
      "\n",
      "STRATUM\n",
      "Stratum 3    4059\n",
      "Stratum 2    4029\n",
      "Stratum 1    1709\n",
      "Stratum 4    1578\n",
      "Stratum 5     633\n",
      "Stratum 6     403\n",
      "Name: STRATUM, dtype: int64\n",
      "\n",
      "SISBEN\n",
      "Level 2    9771\n",
      "Level 1    2057\n",
      "Level 3     583\n",
      "Name: SISBEN, dtype: int64\n",
      "\n",
      "PEOPLE_HOUSE\n",
      "4     4788\n",
      "5     2870\n",
      "3     2345\n",
      "6     1090\n",
      "2      592\n",
      "7      372\n",
      "8      164\n",
      "9       74\n",
      "10      52\n",
      "1       32\n",
      "12      32\n",
      "Name: PEOPLE_HOUSE, dtype: int64\n",
      "\n",
      "MAT_S11\n",
      "64    480\n",
      "60    479\n",
      "62    453\n",
      "58    450\n",
      "65    448\n",
      "     ... \n",
      "38      9\n",
      "37      5\n",
      "31      5\n",
      "98      3\n",
      "26      1\n",
      "Name: MAT_S11, Length: 69, dtype: int64\n",
      "\n",
      "CR_S11\n",
      "64    816\n",
      "62    736\n",
      "60    553\n",
      "57    544\n",
      "56    521\n",
      "     ... \n",
      "90      2\n",
      "27      2\n",
      "30      1\n",
      "26      1\n",
      "24      1\n",
      "Name: CR_S11, Length: 71, dtype: int64\n",
      "\n",
      "CC_S11\n",
      "62    946\n",
      "60    742\n",
      "58    685\n",
      "67    619\n",
      "64    607\n",
      "     ... \n",
      "86      2\n",
      "26      2\n",
      "84      2\n",
      "85      1\n",
      "0       1\n",
      "Name: CC_S11, Length: 68, dtype: int64\n",
      "\n",
      "SEL_IHE\n",
      "2    7748\n",
      "4    2692\n",
      "1    1137\n",
      "3     834\n",
      "Name: SEL_IHE, dtype: int64\n",
      "\n"
     ]
    }
   ],
   "source": [
    "for i in data.iloc[:,1:13]:\n",
    "    print(i)\n",
    "    print(data[i].value_counts())\n",
    "    print()\n",
    "    "
   ]
  },
  {
   "cell_type": "markdown",
   "id": "1cda92e5",
   "metadata": {},
   "source": [
    "### Step 2 - Scanning for outliers"
   ]
  },
  {
   "cell_type": "markdown",
   "id": "dc378939",
   "metadata": {},
   "source": [
    "#### For column MAT_S11"
   ]
  },
  {
   "cell_type": "code",
   "execution_count": 181,
   "id": "42fc9d0b",
   "metadata": {},
   "outputs": [
    {
     "data": {
      "text/plain": [
       "<AxesSubplot:xlabel='MAT_S11'>"
      ]
     },
     "execution_count": 181,
     "metadata": {},
     "output_type": "execute_result"
    },
    {
     "data": {
      "image/png": "[encoded data removed]",
      "text/plain": [
       "<Figure size 432x288 with 1 Axes>"
      ]
     },
     "metadata": {
      "needs_background": "light"
     },
     "output_type": "display_data"
    }
   ],
   "source": [
    "sns.boxplot(x=data['MAT_S11'])"
   ]
  },
  {
   "cell_type": "code",
   "execution_count": 182,
   "id": "8f9abc2e",
   "metadata": {},
   "outputs": [],
   "source": [
    "boundary_high1 = data['MAT_S11'].mean() + 2*data['MAT_S11'].std()\n",
    "boundary_low1 = data['MAT_S11'].mean() - 2*data['MAT_S11'].std()"
   ]
  },
  {
   "cell_type": "markdown",
   "id": "545f0631",
   "metadata": {},
   "source": [
    "#### For column CR_S11"
   ]
  },
  {
   "cell_type": "code",
   "execution_count": 183,
   "id": "a35c27d8",
   "metadata": {},
   "outputs": [
    {
     "data": {
      "text/plain": [
       "<AxesSubplot:xlabel='CR_S11'>"
      ]
     },
     "execution_count": 183,
     "metadata": {},
     "output_type": "execute_result"
    },
    {
     "data": {
      "image/png": "[encoded data removed]",
      "text/plain": [
       "<Figure size 432x288 with 1 Axes>"
      ]
     },
     "metadata": {
      "needs_background": "light"
     },
     "output_type": "display_data"
    }
   ],
   "source": [
    "sns.boxplot(x=data['CR_S11'])"
   ]
  },
  {
   "cell_type": "code",
   "execution_count": 184,
   "id": "d94baf6e",
   "metadata": {},
   "outputs": [],
   "source": [
    "boundary_high2 = data['CR_S11'].mean() + 2*data['CR_S11'].std()\n",
    "boundary_low2 = data['CR_S11'].mean() - 2*data['CR_S11'].std()"
   ]
  },
  {
   "cell_type": "markdown",
   "id": "52f6f6e5",
   "metadata": {},
   "source": [
    "#### For column CC_S11"
   ]
  },
  {
   "cell_type": "code",
   "execution_count": 185,
   "id": "82e73afd",
   "metadata": {},
   "outputs": [
    {
     "data": {
      "text/plain": [
       "<AxesSubplot:xlabel='CC_S11'>"
      ]
     },
     "execution_count": 185,
     "metadata": {},
     "output_type": "execute_result"
    },
    {
     "data": {
      "image/png": "[encoded data removed]",
      "text/plain": [
       "<Figure size 432x288 with 1 Axes>"
      ]
     },
     "metadata": {
      "needs_background": "light"
     },
     "output_type": "display_data"
    }
   ],
   "source": [
    "sns.boxplot(x=data['CC_S11'])"
   ]
  },
  {
   "cell_type": "code",
   "execution_count": 186,
   "id": "75a61aa6",
   "metadata": {},
   "outputs": [],
   "source": [
    "boundary_high3 = data['CC_S11'].mean() + 2*data['CC_S11'].std()\n",
    "boundary_low3 = data['CC_S11'].mean() - 2*data['CC_S11'].std()"
   ]
  },
  {
   "cell_type": "markdown",
   "id": "f8055f4a",
   "metadata": {},
   "source": [
    "#### For column PEOPLE_HOUSE"
   ]
  },
  {
   "cell_type": "code",
   "execution_count": 187,
   "id": "36ae07f2",
   "metadata": {},
   "outputs": [
    {
     "data": {
      "text/plain": [
       "<AxesSubplot:xlabel='PEOPLE_HOUSE'>"
      ]
     },
     "execution_count": 187,
     "metadata": {},
     "output_type": "execute_result"
    },
    {
     "data": {
      "image/png": "[encoded data removed]",
      "text/plain": [
       "<Figure size 432x288 with 1 Axes>"
      ]
     },
     "metadata": {
      "needs_background": "light"
     },
     "output_type": "display_data"
    }
   ],
   "source": [
    "sns.boxplot(x=data['PEOPLE_HOUSE'])"
   ]
  },
  {
   "cell_type": "code",
   "execution_count": 188,
   "id": "cb1f8c3d",
   "metadata": {},
   "outputs": [],
   "source": [
    "boundary_high4 = data['PEOPLE_HOUSE'].mean() + 2*data['PEOPLE_HOUSE'].std()\n",
    "boundary_low4 = data['PEOPLE_HOUSE'].mean() - 2*data['PEOPLE_HOUSE'].std()"
   ]
  },
  {
   "cell_type": "code",
   "execution_count": 189,
   "id": "5a43d702",
   "metadata": {},
   "outputs": [],
   "source": [
    "new_df = data[(data['MAT_S11'] < boundary_high1) & (data['MAT_S11'] > boundary_low1)]\n",
    "new_df = new_df[(new_df['CR_S11'] < boundary_high2) & (new_df['CR_S11'] > boundary_low2)]\n",
    "new_df = new_df[(new_df['CC_S11'] < boundary_high3) & (new_df['CC_S11'] > boundary_low3)]\n",
    "new_df = new_df[(new_df['PEOPLE_HOUSE'] < boundary_high4) & (new_df['PEOPLE_HOUSE'] > boundary_low4)]"
   ]
  },
  {
   "cell_type": "code",
   "execution_count": 190,
   "id": "ff14ccdf",
   "metadata": {},
   "outputs": [
    {
     "data": {
      "text/plain": [
       "(10684, 13)"
      ]
     },
     "execution_count": 190,
     "metadata": {},
     "output_type": "execute_result"
    }
   ],
   "source": [
    "data = new_df\n",
    "data.shape"
   ]
  },
  {
   "cell_type": "code",
   "execution_count": 191,
   "id": "f9fd6775",
   "metadata": {},
   "outputs": [
    {
     "data": {
      "text/plain": [
       "<AxesSubplot:xlabel='MAT_S11'>"
      ]
     },
     "execution_count": 191,
     "metadata": {},
     "output_type": "execute_result"
    },
    {
     "data": {
      "image/png": "[encoded data removed]",
      "text/plain": [
       "<Figure size 432x288 with 1 Axes>"
      ]
     },
     "metadata": {
      "needs_background": "light"
     },
     "output_type": "display_data"
    }
   ],
   "source": [
    "sns.boxplot(x=data['MAT_S11'])"
   ]
  },
  {
   "cell_type": "code",
   "execution_count": 192,
   "id": "cea26f9e",
   "metadata": {},
   "outputs": [
    {
     "data": {
      "text/plain": [
       "<AxesSubplot:xlabel='CR_S11'>"
      ]
     },
     "execution_count": 192,
     "metadata": {},
     "output_type": "execute_result"
    },
    {
     "data": {
      "image/png": "[encoded data removed]",
      "text/plain": [
       "<Figure size 432x288 with 1 Axes>"
      ]
     },
     "metadata": {
      "needs_background": "light"
     },
     "output_type": "display_data"
    }
   ],
   "source": [
    "sns.boxplot(x=data['CR_S11'])"
   ]
  },
  {
   "cell_type": "code",
   "execution_count": 193,
   "id": "c152cf21",
   "metadata": {},
   "outputs": [
    {
     "data": {
      "text/plain": [
       "<AxesSubplot:xlabel='CC_S11'>"
      ]
     },
     "execution_count": 193,
     "metadata": {},
     "output_type": "execute_result"
    },
    {
     "data": {
      "image/png": "[encoded data removed]",
      "text/plain": [
       "<Figure size 432x288 with 1 Axes>"
      ]
     },
     "metadata": {
      "needs_background": "light"
     },
     "output_type": "display_data"
    }
   ],
   "source": [
    "sns.boxplot(x=data['CC_S11'])"
   ]
  },
  {
   "cell_type": "code",
   "execution_count": 194,
   "id": "33505f39",
   "metadata": {},
   "outputs": [
    {
     "data": {
      "text/plain": [
       "<AxesSubplot:xlabel='PEOPLE_HOUSE'>"
      ]
     },
     "execution_count": 194,
     "metadata": {},
     "output_type": "execute_result"
    },
    {
     "data": {
      "image/png": "[encoded data removed]",
      "text/plain": [
       "<Figure size 432x288 with 1 Axes>"
      ]
     },
     "metadata": {
      "needs_background": "light"
     },
     "output_type": "display_data"
    }
   ],
   "source": [
    "sns.boxplot(x=data['PEOPLE_HOUSE'])"
   ]
  },
  {
   "cell_type": "markdown",
   "id": "e1b8ef8b",
   "metadata": {},
   "source": [
    "### Step 3 - Data transformations"
   ]
  },
  {
   "cell_type": "code",
   "execution_count": 195,
   "id": "0af12145",
   "metadata": {},
   "outputs": [
    {
     "data": {
      "image/png": "[encoded data removed]",
      "text/plain": [
       "<Figure size 1152x360 with 1 Axes>"
      ]
     },
     "metadata": {
      "needs_background": "light"
     },
     "output_type": "display_data"
    }
   ],
   "source": [
    "plt.figure(figsize=(16,5))\n",
    "sns.distplot(data['PEOPLE_HOUSE'])\n",
    "plt.show()"
   ]
  },
  {
   "cell_type": "code",
   "execution_count": 196,
   "id": "2f4d8971",
   "metadata": {},
   "outputs": [
    {
     "data": {
      "image/png": "[encoded data removed]",
      "text/plain": [
       "<Figure size 1152x360 with 1 Axes>"
      ]
     },
     "metadata": {
      "needs_background": "light"
     },
     "output_type": "display_data"
    }
   ],
   "source": [
    "plt.figure(figsize=(16,5))\n",
    "sns.distplot(data['CC_S11'])\n",
    "plt.show()"
   ]
  },
  {
   "cell_type": "code",
   "execution_count": 197,
   "id": "5074d238",
   "metadata": {},
   "outputs": [
    {
     "data": {
      "image/png": "[encoded data removed]",
      "text/plain": [
       "<Figure size 1152x360 with 1 Axes>"
      ]
     },
     "metadata": {
      "needs_background": "light"
     },
     "output_type": "display_data"
    }
   ],
   "source": [
    "plt.figure(figsize=(16,5))\n",
    "sns.distplot(data['CR_S11'])\n",
    "plt.show()"
   ]
  },
  {
   "cell_type": "code",
   "execution_count": 198,
   "id": "245c9176",
   "metadata": {},
   "outputs": [
    {
     "data": {
      "image/png": "[encoded data removed]",
      "text/plain": [
       "<Figure size 1152x360 with 1 Axes>"
      ]
     },
     "metadata": {
      "needs_background": "light"
     },
     "output_type": "display_data"
    }
   ],
   "source": [
    "plt.figure(figsize=(16,5))\n",
    "sns.distplot(data['MAT_S11'])\n",
    "plt.show()"
   ]
  },
  {
   "cell_type": "code",
   "execution_count": 199,
   "id": "cfc2a7a0",
   "metadata": {},
   "outputs": [],
   "source": [
    "### PEOPLE_HOUSE does not have a bell shape "
   ]
  },
  {
   "cell_type": "code",
   "execution_count": 200,
   "id": "dc6ffe42",
   "metadata": {},
   "outputs": [],
   "source": [
    "from numpy import exp\n",
    "data['PEOPLE_HOUSE'] = exp(data['PEOPLE_HOUSE'])"
   ]
  },
  {
   "cell_type": "code",
   "execution_count": 201,
   "id": "1babbca7",
   "metadata": {},
   "outputs": [
    {
     "data": {
      "image/png": "[encoded data removed]",
      "text/plain": [
       "<Figure size 1152x360 with 1 Axes>"
      ]
     },
     "metadata": {
      "needs_background": "light"
     },
     "output_type": "display_data"
    }
   ],
   "source": [
    "plt.figure(figsize=(16,5))\n",
    "sns.distplot(data['PEOPLE_HOUSE'])\n",
    "plt.show()"
   ]
  },
  {
   "cell_type": "code",
   "execution_count": null,
   "id": "64e5c878",
   "metadata": {},
   "outputs": [],
   "source": []
  },
  {
   "cell_type": "code",
   "execution_count": null,
   "id": "79a9d006",
   "metadata": {},
   "outputs": [],
   "source": []
  }
 ],
 "metadata": {
  "kernelspec": {
   "display_name": "Python 3 (ipykernel)",
   "language": "python",
   "name": "python3"
  },
  "language_info": {
   "codemirror_mode": {
    "name": "ipython",
    "version": 3
   },
   "file_extension": ".py",
   "mimetype": "text/x-python",
   "name": "python",
   "nbconvert_exporter": "python",
   "pygments_lexer": "ipython3",
   "version": "3.8.5"
  }
 },
 "nbformat": 4,
 "nbformat_minor": 5
}
